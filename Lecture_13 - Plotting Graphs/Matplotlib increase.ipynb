{
 "cells": [
  {
   "cell_type": "code",
   "execution_count": null,
   "id": "a47db368",
   "metadata": {},
   "outputs": [],
   "source": [
    "# Matplotlib increase\n",
    "# Create tow arrays, x and y.\n",
    "# x should hold first 20 even points staring from 0 and y should be an exponentiation array where y[i] = 2^x[i]\n",
    "\n",
    "# Plot a line graph, line should be of color blue and it should be a dashed lint (like -----)\n",
    "# Find the value of x from where there is slight increase in vlaue of y as shown in your plot\n",
    "\n",
    "# plot and print the value of x.\n",
    "\n",
    "# Note: Here x must be multiple of 5.\n",
    "# output Format\n",
    "# x"
   ]
  },
  {
   "cell_type": "code",
   "execution_count": null,
   "id": "d85bd784",
   "metadata": {},
   "outputs": [],
   "source": [
    "import matplotlib.pyplot as plt\n",
    "import numpy as np\n",
    "\n",
    "x = np.arange(0,40,2)\n",
    "y=np.exp2(x,order=\"C\")\n",
    "\n",
    "plt.grid()\n",
    "plt.plot(x,y,\"b--\")\n",
    "plt.show()\n",
    "\n",
    "print(30)"
   ]
  }
 ],
 "metadata": {
  "kernelspec": {
   "display_name": "Python 3 (ipykernel)",
   "language": "python",
   "name": "python3"
  },
  "language_info": {
   "codemirror_mode": {
    "name": "ipython",
    "version": 3
   },
   "file_extension": ".py",
   "mimetype": "text/x-python",
   "name": "python",
   "nbconvert_exporter": "python",
   "pygments_lexer": "ipython3",
   "version": "3.9.12"
  }
 },
 "nbformat": 4,
 "nbformat_minor": 5
}
