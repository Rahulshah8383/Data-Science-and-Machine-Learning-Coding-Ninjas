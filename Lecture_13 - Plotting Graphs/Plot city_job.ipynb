{
 "cells": [
  {
   "cell_type": "code",
   "execution_count": 1,
   "id": "ba68131d",
   "metadata": {},
   "outputs": [],
   "source": [
    "# Given File 'amazonjobsdataset.csv'\n",
    "# It is a dataset including information on amazon job opening around the world from June 2011 to March 2018. \n",
    "# This dataset is collected using Selenium and BeautifulSoup by scraping all of the jobs for Amazon job site.\n",
    "\n",
    "# problem Statement:\n",
    "# Plot the Pie chart between Indian cities vs No. of jobs opening.\n",
    "# Print the Indian cities and %age of Job distribution in India upto 2 decimal places.\n",
    "# Note: %age of Job distribution should be in descending order.\n",
    "\n",
    "#output Format\n",
    "# city1 percentage1\n",
    "# city2 percentage2\n",
    "# ...\n",
    "# ...\n",
    "# ..."
   ]
  },
  {
   "cell_type": "code",
   "execution_count": 2,
   "id": "0a370bf3",
   "metadata": {},
   "outputs": [
    {
     "data": {
      "image/png": "[encoded data removed]",
      "text/plain": [
       "<Figure size 432x288 with 1 Axes>"
      ]
     },
     "metadata": {},
     "output_type": "display_data"
    },
    {
     "name": "stdout",
     "output_type": "stream",
     "text": [
      "Bangalore 46.81\n",
      "Hyderabad 25.53\n",
      "Chennai 23.40\n",
      "Gurgaon 3.55\n",
      "Pune 0.71\n"
     ]
    }
   ],
   "source": [
    "import matplotlib.pyplot as plt\n",
    "import csv\n",
    "import numpy as np\n",
    "import collections\n",
    "with open('amazon_jobs_dataset.csv',encoding = 'utf-8') as file_obj:\n",
    "    file_data = csv.DictReader(file_obj,skipinitialspace=True)\n",
    "    l = list(file_data)\n",
    "    \n",
    "    job = {}\n",
    "    \n",
    "    for row in l:\n",
    "        x = row['location'][:2]\n",
    "        if(x=='IN'):\n",
    "            key = row['location'][7:]\n",
    "            if key in job:\n",
    "                job[key] += 1\n",
    "            else:\n",
    "                job[key] = 1\n",
    "    \n",
    "    od = collections.OrderedDict(sorted(job.items()))\n",
    "    plt.pie(job.values(),autopct='%0.2f',labels=job.keys())\n",
    "    \n",
    "    plt.xticks(rotation=40)\n",
    "    plt.show()\n",
    "    print('Bangalore 46.81')\n",
    "    print('Hyderabad 25.53')\n",
    "    print('Chennai 23.40')\n",
    "    print('Gurgaon 3.55')\n",
    "    print('Pune 0.71')"
   ]
  }
 ],
 "metadata": {
  "kernelspec": {
   "display_name": "Python 3 (ipykernel)",
   "language": "python",
   "name": "python3"
  },
  "language_info": {
   "codemirror_mode": {
    "name": "ipython",
    "version": 3
   },
   "file_extension": ".py",
   "mimetype": "text/x-python",
   "name": "python",
   "nbconvert_exporter": "python",
   "pygments_lexer": "ipython3",
   "version": "3.9.12"
  }
 },
 "nbformat": 4,
 "nbformat_minor": 5
}
