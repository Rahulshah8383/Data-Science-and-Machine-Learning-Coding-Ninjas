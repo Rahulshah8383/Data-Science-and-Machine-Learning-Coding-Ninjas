{
 "cells": [
  {
   "cell_type": "code",
   "execution_count": 1,
   "id": "20b2741c",
   "metadata": {},
   "outputs": [],
   "source": [
    "# Given File 'amazonjobsdataset.csv'\n",
    "# It is a dataset including information on amazon job opening around the world from June 2011 to March 2018. \n",
    "# This dataset is collected using Selenium and BeautifulSoup by scraping all of the jobs for Amazon job site.\n",
    "\n",
    "# Problem Statement :\n",
    "# Plot the Bar graph between Month vs Job Openings.\n",
    "# Print the year and the number of job posting as integer value.\n",
    "# Order of months doesn't matter.\n",
    "\n",
    "#output Format\n",
    "# month_name1 job_posting1\n",
    "# month_name2 job_posting2\n",
    "# ...\n",
    "# ...\n",
    "# ..."
   ]
  },
  {
   "cell_type": "code",
   "execution_count": 3,
   "id": "644bd803",
   "metadata": {},
   "outputs": [
    {
     "data": {
      "image/png": "[encoded data removed]",
      "text/plain": [
       "<Figure size 432x288 with 1 Axes>"
      ]
     },
     "metadata": {
      "needs_background": "light"
     },
     "output_type": "display_data"
    },
    {
     "name": "stdout",
     "output_type": "stream",
     "text": [
      "April 58\n",
      "August 153\n",
      "December 393\n",
      "February 869\n",
      "January 961\n",
      "July 95\n",
      "June 99\n",
      "March 78\n",
      "May 108\n",
      "November 271\n",
      "October 243\n",
      "September 165\n"
     ]
    }
   ],
   "source": [
    "import matplotlib.pyplot as plt\n",
    "import csv\n",
    "import numpy as np\n",
    "import collections\n",
    "with open('amazon_jobs_dataset.csv',encoding = 'UTF-8') as file_obj:\n",
    "    file_data = csv.DictReader(file_obj,skipinitialspace=True)\n",
    "    l = list(file_data)\n",
    "    \n",
    "    job = {}\n",
    "    \n",
    "    for row in l:\n",
    "        x = row['Posting_date'].split()\n",
    "        key = x[0]\n",
    "        if key in job:\n",
    "            job[key] += 1\n",
    "        else:\n",
    "            job[key] = 1\n",
    "    od = collections.OrderedDict(sorted(job.items()))\n",
    "    plt.bar(list(od.keys()),list(od.values()))\n",
    "    plt.xticks(rotation = 40)\n",
    "    plt.show()\n",
    "    for i in od.keys():\n",
    "        print(i,end=\" \")\n",
    "        print(od[i])"
   ]
  }
 ],
 "metadata": {
  "kernelspec": {
   "display_name": "Python 3 (ipykernel)",
   "language": "python",
   "name": "python3"
  },
  "language_info": {
   "codemirror_mode": {
    "name": "ipython",
    "version": 3
   },
   "file_extension": ".py",
   "mimetype": "text/x-python",
   "name": "python",
   "nbconvert_exporter": "python",
   "pygments_lexer": "ipython3",
   "version": "3.9.12"
  }
 },
 "nbformat": 4,
 "nbformat_minor": 5
}
