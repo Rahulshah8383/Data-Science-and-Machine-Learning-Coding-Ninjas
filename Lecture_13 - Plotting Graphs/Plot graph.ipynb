{
 "cells": [
  {
   "cell_type": "code",
   "execution_count": 1,
   "id": "82b46162",
   "metadata": {},
   "outputs": [],
   "source": [
    "#  Plot graph\n",
    "# plot thw two graphs on same plot. The graph between the two given integer array X and Y and the graph between two integer \n",
    "# array X and Y where X should hold 20 even points starting from 0 and y should be equal to X where y[i] = x[i].\n",
    "# plot should have x label and y label and the legend to differentiate between two graphs."
   ]
  },
  {
   "cell_type": "code",
   "execution_count": 2,
   "id": "e5c64e74",
   "metadata": {},
   "outputs": [
    {
     "name": "stderr",
     "output_type": "stream",
     "text": [
      "No artists with labels found to put in legend.  Note that artists whose label start with an underscore are ignored when legend() is called with no argument.\n"
     ]
    },
    {
     "data": {
      "image/png": "[encoded data removed]",
      "text/plain": [
       "<Figure size 432x288 with 1 Axes>"
      ]
     },
     "metadata": {
      "needs_background": "light"
     },
     "output_type": "display_data"
    }
   ],
   "source": [
    "import matplotlib.pyplot as plt\n",
    "import numpy as np\n",
    "\n",
    "x1 =[0,1,2,3,4,5,6,7,9,10]\n",
    "y1=[1,2,5,10,17,26,37,50,82,101]\n",
    "\n",
    "x = np.arange(0,40,2)\n",
    "y = x\n",
    "\n",
    "plt.xlabel(\"x\")\n",
    "#plt.ylabel(\"y\")\n",
    "plt.legend()\n",
    "\n",
    "plt.plot(x,y,color= \"blue\", linewidth = 5, label =\"x==y\")\n",
    "plt.plot(x1,y1, color= \"red\", linewidth = 5,label=\"x1 to y1\")\n",
    "plt.show()"
   ]
  }
 ],
 "metadata": {
  "kernelspec": {
   "display_name": "Python 3 (ipykernel)",
   "language": "python",
   "name": "python3"
  },
  "language_info": {
   "codemirror_mode": {
    "name": "ipython",
    "version": 3
   },
   "file_extension": ".py",
   "mimetype": "text/x-python",
   "name": "python",
   "nbconvert_exporter": "python",
   "pygments_lexer": "ipython3",
   "version": "3.9.12"
  }
 },
 "nbformat": 4,
 "nbformat_minor": 5
}
