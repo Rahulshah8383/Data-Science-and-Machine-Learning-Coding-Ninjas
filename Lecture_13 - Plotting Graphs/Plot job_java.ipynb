{
 "cells": [
  {
   "cell_type": "code",
   "execution_count": 1,
   "id": "fa3442f0",
   "metadata": {},
   "outputs": [],
   "source": [
    "# Given File 'amazonjobsdataset.csv'\n",
    "# It is a dataset including information on amazon job opening around the world from June 2011 to March 2018. \n",
    "# This dataset is collected using Selenium and BeautifulSoup by scraping all of the jobs for Amazon job site.\n",
    "\n",
    "# problem Statement:\n",
    "# Plot the scatter graph between year vs No. of jobs opening related to Java.\n",
    "# Print the year and number of Jobs opening in Java Profile.\n",
    "# Note: Use the Keyword 'Java' or 'java' in Basic Qualification feature for finding the job opening related to Java Profile. \n",
    "# Print the year in ascending order.\n",
    "\n",
    "#output Format\n",
    "# year1 jobOpening1\n",
    "# year2 jobOpening2\n",
    "# ...\n",
    "# ...\n",
    "# ..."
   ]
  },
  {
   "cell_type": "code",
   "execution_count": 2,
   "id": "c7040049",
   "metadata": {},
   "outputs": [
    {
     "data": {
      "image/png": "[encoded data removed]",
      "text/plain": [
       "<Figure size 432x288 with 1 Axes>"
      ]
     },
     "metadata": {
      "needs_background": "light"
     },
     "output_type": "display_data"
    },
    {
     "name": "stdout",
     "output_type": "stream",
     "text": [
      "2012 6\n",
      "2013 2\n",
      "2014 4\n",
      "2015 25\n",
      "2016 95\n",
      "2017 1093\n",
      "2018 1210\n"
     ]
    }
   ],
   "source": [
    "import matplotlib.pyplot as plt\n",
    "import csv\n",
    "import numpy as np\n",
    "import collections\n",
    "with open('amazon_jobs_dataset.csv',encoding = 'utf-8') as file_obj:\n",
    "    file_data = csv.DictReader(file_obj,skipinitialspace=True)\n",
    "    l = list(file_data)\n",
    "    \n",
    "    job = {}\n",
    "    \n",
    "    for row in l:\n",
    "        x = row['BASIC QUALIFICATIONS']\n",
    "        if('Java' in x or 'java' in x):\n",
    "            y = row['Posting_date'].split()\n",
    "            key = y[2]\n",
    "            if key in job:\n",
    "                job[key] += 1\n",
    "            else:\n",
    "                job[key] = 1\n",
    "    \n",
    "    od = collections.OrderedDict(sorted(job.items()))\n",
    "    plt.plot(list(od.keys()),list(od.values()))\n",
    "    plt.xticks(rotation=40)\n",
    "    plt.show()\n",
    "    \n",
    "    for i in od.keys():\n",
    "        print(i,end=\" \")  \n",
    "        print(od[i])"
   ]
  }
 ],
 "metadata": {
  "kernelspec": {
   "display_name": "Python 3 (ipykernel)",
   "language": "python",
   "name": "python3"
  },
  "language_info": {
   "codemirror_mode": {
    "name": "ipython",
    "version": 3
   },
   "file_extension": ".py",
   "mimetype": "text/x-python",
   "name": "python",
   "nbconvert_exporter": "python",
   "pygments_lexer": "ipython3",
   "version": "3.9.12"
  }
 },
 "nbformat": 4,
 "nbformat_minor": 5
}
