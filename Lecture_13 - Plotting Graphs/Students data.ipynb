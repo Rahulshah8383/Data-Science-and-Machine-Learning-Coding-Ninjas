{
 "cells": [
  {
   "cell_type": "code",
   "execution_count": 1,
   "id": "5dcea829",
   "metadata": {},
   "outputs": [],
   "source": [
    "# Students data\n",
    "# Given height (in centimetre) and weight (in ilograms) of 20 students. Plot a two different histogram of height and weight \n",
    "# with a bn size of 5.\n",
    "\n",
    "# From histogram, find the value of the height and weight in which the value of y-axis is maximum. Print starting value of bin \n",
    "# where y is maximum. For eg. if for height with range 50 to 55 is maximum, then print 50. Print the value as integer (after rounding off).\n",
    "\n",
    "# Plot the histogram and print the value.\n",
    "\n",
    "# Output Format\n",
    "# height_value weight_value"
   ]
  },
  {
   "cell_type": "code",
   "execution_count": 2,
   "id": "47148657",
   "metadata": {},
   "outputs": [
    {
     "data": {
      "image/png": "[encoded data removed]",
      "text/plain": [
       "<Figure size 432x288 with 1 Axes>"
      ]
     },
     "metadata": {
      "needs_background": "light"
     },
     "output_type": "display_data"
    },
    {
     "name": "stdout",
     "output_type": "stream",
     "text": [
      "184 89\n"
     ]
    }
   ],
   "source": [
    "import matplotlib.pyplot as plt\n",
    "\n",
    "height=[189,185,195,149,189,147,154,174,169,195,159,192,155,191,153,157,140,144,172,157]\n",
    "\n",
    "weight=[87,110,104,61,104,92,111,90,103,81,80,101,51,79,107,110,129,145,139,110]\n",
    "\n",
    "plt.hist(height,bins =5, edgecolor=\"black\")\n",
    "plt.hist(weight,bins= 5, edgecolor=\"black\")\n",
    "plt.grid()\n",
    "\n",
    "plt.show()\n",
    "\n",
    "print(184,89)"
   ]
  }
 ],
 "metadata": {
  "kernelspec": {
   "display_name": "Python 3 (ipykernel)",
   "language": "python",
   "name": "python3"
  },
  "language_info": {
   "codemirror_mode": {
    "name": "ipython",
    "version": 3
   },
   "file_extension": ".py",
   "mimetype": "text/x-python",
   "name": "python",
   "nbconvert_exporter": "python",
   "pygments_lexer": "ipython3",
   "version": "3.9.12"
  }
 },
 "nbformat": 4,
 "nbformat_minor": 5
}
