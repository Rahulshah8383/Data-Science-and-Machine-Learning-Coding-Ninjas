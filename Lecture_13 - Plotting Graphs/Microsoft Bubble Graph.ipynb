{
 "cells": [
  {
   "cell_type": "code",
   "execution_count": 1,
   "id": "d700cc20",
   "metadata": {},
   "outputs": [],
   "source": [
    "# Microsoft Bubble Graph\n",
    "# we are given data of Microsoft Corpotations, it contains the gross annual revenue in billion U.S dollar and the number of \n",
    "# employees in thousands and year. Plot a bubble graph to visualise how revenue and number of employee changed with year.\n",
    "\n",
    "# Find years where there is a drastic increase in gross revenue of Microsoft Corpotations (from previous and next year both). \n",
    "# plot the bubble graph between year and revenue and keeping employee inside the bubble.\n",
    "\n",
    "# Print the year, revenue and number of the employee where there is drastic increase in revenue(Top 2).\n",
    "\n",
    "# Note: For finding the year where there is a drastic increase in gross revenue cheeck whether the revenue of that year is \n",
    "# greater than in previous years and greater than next year. Here years should be printed in ascending order.\n",
    "\n",
    "# Output Format:\n",
    "# year1 revenue1 employee1\n",
    "# year1 revenue1 employee1\n",
    "# ...\n",
    "# ...\n",
    "# ..."
   ]
  },
  {
   "cell_type": "code",
   "execution_count": 2,
   "id": "f6d46bc4",
   "metadata": {},
   "outputs": [
    {
     "data": {
      "image/png": "[encoded data removed]",
      "text/plain": [
       "<Figure size 432x288 with 1 Axes>"
      ]
     },
     "metadata": {
      "needs_background": "light"
     },
     "output_type": "display_data"
    },
    {
     "name": "stdout",
     "output_type": "stream",
     "text": [
      "2008 60.42 91\n",
      "2015 93.58 118\n"
     ]
    }
   ],
   "source": [
    "import matplotlib.pyplot as plt\n",
    "import numpy as np\n",
    "\n",
    "employees=[61,71,79,91,93,89,90,94,99,128,118,114,124,131]\n",
    "year=[2005,2006,2007,2008,2009,2010,2011,2012,2013,2014,2015,2016,2017,2018]\n",
    "revenue=[39.79,44.28,51.12,60.42,58.44,62.48,69.94,73.72,77.85,86.83,93.58,85.32,89.95,110.36]\n",
    "\n",
    "emp = np.arange(len(employees))\n",
    "\n",
    "plt.scatter(year,revenue, s=employees, c = emp)\n",
    "plt.title(\"Bubble Chart\")\n",
    "plt.show()\n",
    "\n",
    "for i in range(1,len(employees)-1):\n",
    "    if revenue[i] > revenue[i-1] and revenue[i] > revenue[i+1]:\n",
    "        print(year[i],revenue[i],employees[i])"
   ]
  }
 ],
 "metadata": {
  "kernelspec": {
   "display_name": "Python 3 (ipykernel)",
   "language": "python",
   "name": "python3"
  },
  "language_info": {
   "codemirror_mode": {
    "name": "ipython",
    "version": 3
   },
   "file_extension": ".py",
   "mimetype": "text/x-python",
   "name": "python",
   "nbconvert_exporter": "python",
   "pygments_lexer": "ipython3",
   "version": "3.9.12"
  }
 },
 "nbformat": 4,
 "nbformat_minor": 5
}
