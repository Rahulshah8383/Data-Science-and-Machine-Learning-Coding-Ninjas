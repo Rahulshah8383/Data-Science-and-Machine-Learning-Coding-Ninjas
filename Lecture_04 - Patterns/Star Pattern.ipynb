{
 "cells": [
  {
   "cell_type": "code",
   "execution_count": 1,
   "id": "ebecc28a",
   "metadata": {},
   "outputs": [],
   "source": [
    "# Star Pattern\n",
    "# Print the following pattern\n",
    "# Pattern for N = 4\n",
    "#    *\n",
    "#   ***\n",
    "#  *****\n",
    "# *******\n",
    "# The dots represent spaces.\n",
    " \n",
    "# Input Format :\n",
    "# N (Total no. of rows)\n",
    "# Output Format :\n",
    "# Pattern in N lines\n",
    "# Constraints :\n",
    "# 0 <= N <= 50\n",
    "# Sample Input 1 :\n",
    "# 3\n",
    "# Sample Output 1 :\n",
    "#    *\n",
    "#   *** \n",
    "#  *****\n",
    "# Sample Input 2 :\n",
    "# 4\n",
    "# Sample Output 2 :\n",
    "#     *\n",
    "#    *** \n",
    "#   *****\n",
    "#  *******"
   ]
  },
  {
   "cell_type": "code",
   "execution_count": 1,
   "id": "3be3af3a",
   "metadata": {},
   "outputs": [
    {
     "name": "stdout",
     "output_type": "stream",
     "text": [
      "4\n",
      "   *\n",
      "  ***\n",
      " *****\n",
      "*******\n"
     ]
    }
   ],
   "source": [
    "n = int(input())\n",
    "i = 1\n",
    "while i <= n:\n",
    "    #spaces\n",
    "    spaces = 1\n",
    "    while spaces <= n-i:\n",
    "        print(\" \",end=\"\")\n",
    "        spaces = spaces + 1\n",
    "    #increment star\n",
    "    stars = 1\n",
    "    while stars <= i:\n",
    "        print(\"*\",end=\"\")\n",
    "        stars = stars + 1\n",
    "    #decrement stars\n",
    "    pstars = i - 1\n",
    "    while pstars >= 1:\n",
    "        print(\"*\",end=\"\")\n",
    "        pstars = pstars - 1\n",
    "    print()\n",
    "    i = i + 1"
   ]
  }
 ],
 "metadata": {
  "kernelspec": {
   "display_name": "Python 3 (ipykernel)",
   "language": "python",
   "name": "python3"
  },
  "language_info": {
   "codemirror_mode": {
    "name": "ipython",
    "version": 3
   },
   "file_extension": ".py",
   "mimetype": "text/x-python",
   "name": "python",
   "nbconvert_exporter": "python",
   "pygments_lexer": "ipython3",
   "version": "3.9.12"
  }
 },
 "nbformat": 4,
 "nbformat_minor": 5
}
