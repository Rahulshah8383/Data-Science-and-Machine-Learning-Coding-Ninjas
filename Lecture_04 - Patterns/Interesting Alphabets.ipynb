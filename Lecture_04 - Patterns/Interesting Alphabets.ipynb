{
 "cells": [
  {
   "cell_type": "code",
   "execution_count": null,
   "id": "dc559e47",
   "metadata": {},
   "outputs": [],
   "source": [
    "# Interesting Alphabets\n",
    "# Print the following pattern for the given number of rows.\n",
    "# Pattern for N = 5\n",
    "# E\n",
    "# DE\n",
    "# CDE\n",
    "# BCDE\n",
    "# ABCDE\n",
    "# Input format :\n",
    "# N (Total no. of rows)\n",
    "# Output format :\n",
    "# Pattern in N lines\n",
    "# Constraints\n",
    "# 0 <= N <= 26\n",
    "# Sample Input 1:\n",
    "# 8\n",
    "# Sample Output 1:\n",
    "# H\n",
    "# GH\n",
    "# FGH\n",
    "# EFGH\n",
    "# DEFGH\n",
    "# CDEFGH\n",
    "# BCDEFGH\n",
    "# ABCDEFGH\n",
    "# Sample Input 2:\n",
    "# 7\n",
    "# Sample Output 2:\n",
    "# G\n",
    "# FG\n",
    "# EFG\n",
    "# DEFG\n",
    "# CDEFG\n",
    "# BCDEFG\n",
    "# ABCDEFG"
   ]
  },
  {
   "cell_type": "code",
   "execution_count": 1,
   "id": "aa16a9f9",
   "metadata": {},
   "outputs": [
    {
     "name": "stdout",
     "output_type": "stream",
     "text": [
      "7\n",
      "G\n",
      "FG\n",
      "EFG\n",
      "DEFG\n",
      "CDEFG\n",
      "BCDEFG\n",
      "ABCDEFG\n"
     ]
    }
   ],
   "source": [
    "n = int(input())\n",
    "i = 1\n",
    "while i <= n:\n",
    "    start_char = chr(ord(\"A\") + (n - 1))\n",
    "    j = 1\n",
    "    p = i\n",
    "    while j <= i:\n",
    "        charP = chr(ord(start_char) - (p - 1))\n",
    "        print(charP,end=\"\")\n",
    "        p = p - 1 \n",
    "        j = j + 1\n",
    "    print()\n",
    "    i = i + 1"
   ]
  }
 ],
 "metadata": {
  "kernelspec": {
   "display_name": "Python 3 (ipykernel)",
   "language": "python",
   "name": "python3"
  },
  "language_info": {
   "codemirror_mode": {
    "name": "ipython",
    "version": 3
   },
   "file_extension": ".py",
   "mimetype": "text/x-python",
   "name": "python",
   "nbconvert_exporter": "python",
   "pygments_lexer": "ipython3",
   "version": "3.9.12"
  }
 },
 "nbformat": 4,
 "nbformat_minor": 5
}
