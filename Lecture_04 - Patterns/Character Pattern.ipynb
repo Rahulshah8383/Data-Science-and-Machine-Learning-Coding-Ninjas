{
 "cells": [
  {
   "cell_type": "code",
   "execution_count": 1,
   "id": "36e911cd",
   "metadata": {},
   "outputs": [],
   "source": [
    "# Character Pattern\n",
    "# Print the following pattern for the given N number of rows.\n",
    "# Pattern for N = 4\n",
    "# A\n",
    "# BC\n",
    "# CDE\n",
    "# DEFG\n",
    "# Input format :\n",
    "# Integer N (Total no. of rows)\n",
    "# Output format :\n",
    "# Pattern in N lines\n",
    "# Constraints\n",
    "# 0 <= N <= 13\n",
    "# Sample Input 1:\n",
    "# 5\n",
    "# Sample Output 1:\n",
    "# A\n",
    "# BC\n",
    "# CDE\n",
    "# DEFG\n",
    "# EFGHI\n",
    "# Sample Input 2:\n",
    "# 6\n",
    "# Sample Output 2:\n",
    "# A\n",
    "# BC\n",
    "# CDE\n",
    "# DEFG\n",
    "# EFGHI\n",
    "# FGHIJK"
   ]
  },
  {
   "cell_type": "code",
   "execution_count": 2,
   "id": "e7395eef",
   "metadata": {},
   "outputs": [
    {
     "name": "stdout",
     "output_type": "stream",
     "text": [
      "6\n",
      "A\n",
      "BC\n",
      "CDE\n",
      "DEFG\n",
      "EFGHI\n",
      "FGHIJK\n"
     ]
    }
   ],
   "source": [
    "n = int(input())\n",
    "i=1\n",
    "while i<=n:\n",
    "    j=1\n",
    "    str = (ord('A')+i-1)\n",
    "    while j<=i:\n",
    "        print(chr(str+j-1),end='')\n",
    "        j=j+1\n",
    "    print()\n",
    "    i=i+1"
   ]
  }
 ],
 "metadata": {
  "kernelspec": {
   "display_name": "Python 3 (ipykernel)",
   "language": "python",
   "name": "python3"
  },
  "language_info": {
   "codemirror_mode": {
    "name": "ipython",
    "version": 3
   },
   "file_extension": ".py",
   "mimetype": "text/x-python",
   "name": "python",
   "nbconvert_exporter": "python",
   "pygments_lexer": "ipython3",
   "version": "3.9.12"
  }
 },
 "nbformat": 4,
 "nbformat_minor": 5
}
