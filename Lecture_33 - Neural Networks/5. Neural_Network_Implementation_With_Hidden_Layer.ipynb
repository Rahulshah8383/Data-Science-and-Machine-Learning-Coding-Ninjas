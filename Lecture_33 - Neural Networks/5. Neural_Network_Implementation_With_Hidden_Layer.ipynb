{
  "nbformat": 4,
  "nbformat_minor": 0,
  "metadata": {
    "colab": {
      "provenance": [],
      "toc_visible": true
    },
    "kernelspec": {
      "name": "python3",
      "display_name": "Python 3"
    },
    "language_info": {
      "name": "python"
    }
  },
  "cells": [
    {
      "cell_type": "code",
      "execution_count": 1,
      "metadata": {
        "id": "XwuwBAvN4jXR"
      },
      "outputs": [],
      "source": [
        "import numpy as np"
      ]
    },
    {
      "cell_type": "code",
      "source": [
        "X = np.array([[0,0], [0,1], [1,0], [1,1]])\n",
        "Y = np.array([[0,0,0,1]]).T\n",
        "X.shape, Y.shape"
      ],
      "metadata": {
        "colab": {
          "base_uri": "https://localhost:8080/"
        },
        "id": "qy9d0t2U4prc",
        "outputId": "882ac325-9c6c-4f7f-cc14-6ea8fc7c13a7"
      },
      "execution_count": 2,
      "outputs": [
        {
          "output_type": "execute_result",
          "data": {
            "text/plain": [
              "((4, 2), (4, 1))"
            ]
          },
          "metadata": {},
          "execution_count": 2
        }
      ]
    },
    {
      "cell_type": "code",
      "source": [
        "def sig(z):\n",
        "    return 1/(1 + np.exp(-z))"
      ],
      "metadata": {
        "id": "a-4vptjW44vv"
      },
      "execution_count": 6,
      "outputs": []
    },
    {
      "cell_type": "code",
      "source": [
        "def derivativeSig(z):\n",
        "  return sig(z)*(1-sig(z))"
      ],
      "metadata": {
        "id": "4986JEGF4qaL"
      },
      "execution_count": 7,
      "outputs": []
    },
    {
      "cell_type": "code",
      "source": [
        "# one hidden layer weights\n",
        "wh = 2* np.random.random((2, 2)) - 1\n",
        "bh = 2* np.random.random((1, 2)) - 1\n",
        "wo = 2 * np.random.random((2, 1)) - 1\n",
        "bo = 2 * np.random.random((1,1)) - 1\n",
        "lr = 0.1"
      ],
      "metadata": {
        "id": "ARqaJyrz4rGl"
      },
      "execution_count": 8,
      "outputs": []
    },
    {
      "cell_type": "code",
      "source": [
        "output0 = X\n",
        "outputHidden = sig(np.dot(output0, wh) + bh)\n",
        "output = sig(np.dot(outputHidden, wo) + bo)\n",
        "output"
      ],
      "metadata": {
        "colab": {
          "base_uri": "https://localhost:8080/"
        },
        "id": "Vj-pcSy65A77",
        "outputId": "e3c83d9b-5e3d-4a14-f327-8e0108b1d7cf"
      },
      "execution_count": 9,
      "outputs": [
        {
          "output_type": "execute_result",
          "data": {
            "text/plain": [
              "array([[0.71241581],\n",
              "       [0.67332733],\n",
              "       [0.68457585],\n",
              "       [0.64193477]])"
            ]
          },
          "metadata": {},
          "execution_count": 9
        }
      ]
    },
    {
      "cell_type": "code",
      "source": [
        "for iter in range(10000):\n",
        "  output0 = X\n",
        "  input_Hidden = np.dot(output0, wh) + bh\n",
        "  output_Hidden = sig(input_Hidden)\n",
        "  input_For_output_Layer = np.dot(output_Hidden, wo) + bo\n",
        "  output = sig(input_For_output_Layer)\n",
        "\n",
        "  first_term_output_layer = output-Y\n",
        "  second_term_output_layer = derivativeSig(input_For_output_Layer)\n",
        "  first_two_output_layer = first_term_output_layer*second_term_output_layer\n",
        "\n",
        "  first_term_hidden_layer = np.dot(first_two_output_layer, wo.T)\n",
        "  second_term_hidden_layer = derivativeSig(input_Hidden)\n",
        "  first_two_hidden_layer = first_term_output_layer*second_term_output_layer\n",
        "\n",
        "  changes_output = np.dot(output_Hidden.T, first_two_output_layer)\n",
        "  changes_output_bias = np.sum(first_two_output_layer, axis=0, keepdims=True)\n",
        "\n",
        "  changes_hidden = np.dot(output0.T, first_two_hidden_layer)\n",
        "  changes_hidden_bias = np.sum(first_two_hidden_layer, axis=0, keepdims=True)\n",
        "\n",
        "  wo = wo - lr*changes_output\n",
        "  bo = bo - lr*changes_output_bias\n",
        "\n",
        "  wh = wh - lr*changes_hidden\n",
        "  bh = bh - lr*changes_hidden_bias\n",
        "\n",
        "output0 = X\n",
        "input_Hidden = np.dot(output0, wh) + bh\n",
        "output_Hidden = sig(input_Hidden)\n",
        "input_For_output_Layer = np.dot(output_Hidden, wo) + bo\n",
        "output = sig(input_For_output_Layer)\n",
        "\n",
        "output, wh, bh, wo, bo"
      ],
      "metadata": {
        "colab": {
          "base_uri": "https://localhost:8080/"
        },
        "id": "DG7HfK0c4r7u",
        "outputId": "f8bcc6c2-8af6-4668-d352-62ed872c7a20"
      },
      "execution_count": 10,
      "outputs": [
        {
          "output_type": "execute_result",
          "data": {
            "text/plain": [
              "(array([[0.02809133],\n",
              "        [0.33293403],\n",
              "        [0.33293403],\n",
              "        [0.33293403]]),\n",
              " array([[73.49279809, 74.17706752],\n",
              "        [73.89576875, 75.12432079]]),\n",
              " array([[-4.00308467, -3.87415549]]),\n",
              " array([[2.40696314],\n",
              "        [0.4951297 ]]),\n",
              " array([[-3.59703744]]))"
            ]
          },
          "metadata": {},
          "execution_count": 10
        }
      ]
    },
    {
      "cell_type": "code",
      "source": [],
      "metadata": {
        "id": "PN60jlu64tHc"
      },
      "execution_count": null,
      "outputs": []
    }
  ]
}