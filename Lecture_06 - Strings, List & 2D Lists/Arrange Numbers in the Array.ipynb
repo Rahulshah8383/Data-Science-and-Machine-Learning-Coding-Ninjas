{
 "cells": [
  {
   "cell_type": "code",
   "execution_count": 1,
   "id": "62de5fc4",
   "metadata": {},
   "outputs": [],
   "source": [
    "# Arrange Numbers in the Array\n",
    "# You have been given an empty array(ARR) and its size N. The only input taken from the user will be N and you need not worry about the array.\n",
    "# Your task is to populate the array using the integer values in the range 1 to N(both inclusive) in the order - 1,3,.......4,2.\n",
    "# Note:\n",
    "# You need not print the array. You only need to populate it.\n",
    "# Input Format :\n",
    "# The first line contains an Integer 't' which denotes the number of test cases or queries to be run. Then the test cases follow.\n",
    "\n",
    "# The first and the only line of each test case or query contains an integer 'N'.\n",
    "# Output Format :\n",
    "# For each test case, print the elements of the arra/listy separated by a single space.\n",
    "\n",
    "# Output for every test case will be printed in a separate line.\n",
    "# Constraints :\n",
    "# 1 <= t <= 10^2\n",
    "# 0 <= N <= 10^4\n",
    "\n",
    "# Time Limit: 1sec\n",
    "# Sample Input 1 :\n",
    "# 1\n",
    "# 6\n",
    "# Sample Output 1 :\n",
    "# 1 3 5 6 4 2\n",
    "# Sample Input 2 :\n",
    "# 2\n",
    "# 9\n",
    "# 3\n",
    "# Sample Output 2 :\n",
    "# 1 3 5 7 9 8 6 4 2\n",
    "# 1 3 2"
   ]
  },
  {
   "cell_type": "code",
   "execution_count": 3,
   "id": "81850a07",
   "metadata": {},
   "outputs": [
    {
     "name": "stdout",
     "output_type": "stream",
     "text": [
      "9\n",
      "1 3 5 7 9 8 6 4 2 "
     ]
    }
   ],
   "source": [
    "n=int(input())\n",
    "\n",
    "i=1\n",
    "while(i<=n):\n",
    "    print(i,end=\" \")\n",
    "    i=i+2\n",
    "\n",
    "if(n%2==0):\n",
    "    i=n\n",
    "else:\n",
    "    i=n-1\n",
    "\n",
    "while(i>=2):\n",
    "    print(i,end=\" \")\n",
    "    i=i-2"
   ]
  }
 ],
 "metadata": {
  "kernelspec": {
   "display_name": "Python 3 (ipykernel)",
   "language": "python",
   "name": "python3"
  },
  "language_info": {
   "codemirror_mode": {
    "name": "ipython",
    "version": 3
   },
   "file_extension": ".py",
   "mimetype": "text/x-python",
   "name": "python",
   "nbconvert_exporter": "python",
   "pygments_lexer": "ipython3",
   "version": "3.9.12"
  }
 },
 "nbformat": 4,
 "nbformat_minor": 5
}
