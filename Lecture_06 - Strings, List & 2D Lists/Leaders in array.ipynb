{
 "cells": [
  {
   "cell_type": "code",
   "execution_count": 1,
   "id": "1cf6c2c2",
   "metadata": {},
   "outputs": [],
   "source": [
    "# Leaders in array\n",
    "# Given an integer array A of size n. Find and print all the leaders present in the input array. An array element A[i] is called Leader, if all the elements following it (i.e. present at its right) are less than or equal to A[i].\n",
    "# Print all the leader elements separated by space and in the same order they are present in the input array.\n",
    "# Input Format :\n",
    "# Line 1 : Integer n, size of array\n",
    "# Line 2 : Array A elements (separated by space)\n",
    "# Output Format :\n",
    "#  leaders of array (separated by space)\n",
    "# Constraints :\n",
    "# 1 <= n <= 10^6\n",
    "# Sample Input 1 :\n",
    "# 6\n",
    "# 3 12 34 2 0 -1\n",
    "# Sample Output 1 :\n",
    "# 34 2 0 -1\n",
    "# Sample Input 2 :\n",
    "# 5\n",
    "# 13 17 5 4 6\n",
    "# Sample Output 2 :\n",
    "# 17 6"
   ]
  },
  {
   "cell_type": "code",
   "execution_count": 2,
   "id": "00d85e71",
   "metadata": {},
   "outputs": [
    {
     "name": "stdout",
     "output_type": "stream",
     "text": [
      "6\n",
      "3 12 34 2 0 -1\n",
      "34 2 0 -1 "
     ]
    }
   ],
   "source": [
    "def printLeaders(arr,size): \n",
    "      \n",
    "    for i in range(0, size): \n",
    "        for j in range(i+1, size): \n",
    "            if arr[i]<=arr[j]: \n",
    "                break\n",
    "        if j == size-1: \n",
    "            print (arr[i],end=\" \") \n",
    "  \n",
    " \n",
    "m = int(input())\n",
    "arr = [int(x) for x in input().split()[:m]]\n",
    " \n",
    "printLeaders(arr, len(arr)) "
   ]
  }
 ],
 "metadata": {
  "kernelspec": {
   "display_name": "Python 3 (ipykernel)",
   "language": "python",
   "name": "python3"
  },
  "language_info": {
   "codemirror_mode": {
    "name": "ipython",
    "version": 3
   },
   "file_extension": ".py",
   "mimetype": "text/x-python",
   "name": "python",
   "nbconvert_exporter": "python",
   "pygments_lexer": "ipython3",
   "version": "3.9.12"
  }
 },
 "nbformat": 4,
 "nbformat_minor": 5
}
