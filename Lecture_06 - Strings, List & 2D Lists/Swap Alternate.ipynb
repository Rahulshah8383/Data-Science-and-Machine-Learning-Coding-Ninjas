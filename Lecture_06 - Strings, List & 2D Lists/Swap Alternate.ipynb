{
 "cells": [
  {
   "cell_type": "code",
   "execution_count": 4,
   "id": "75da2e9b",
   "metadata": {},
   "outputs": [],
   "source": [
    "# Swap Alternate\n",
    "# You have been given an array/list(ARR) of size N. You need to swap every pair of alternate elements in the array/list.\n",
    "# You don't need to print or return anything, just change in the input array itself.\n",
    "# Input Format :\n",
    "# The first line contains an Integer 't' which denotes the number of test cases or queries to be run. Then the test cases follow.\n",
    "\n",
    "# First line of each test case or query contains an integer 'N' representing the size of the array/list.\n",
    "\n",
    "# Second line contains 'N' single space separated integers representing the elements in the array/list.\n",
    "# Output Format :\n",
    "# For each test case, print the elements of the resulting array in a single row separated by a single space.\n",
    "\n",
    "# Output for every test case will be printed in a separate line.\n",
    "# Constraints :\n",
    "# 1 <= t <= 10^2\n",
    "# 0 <= N <= 10^5\n",
    "# Time Limit: 1sec\n",
    "# Sample Input 1:\n",
    "# 1\n",
    "# 6\n",
    "# 9 3 6 12 4 32\n",
    "# Sample Output 1 :\n",
    "# 3 9 12 6 32 4\n",
    "# Sample Input 2:\n",
    "# 2\n",
    "# 9\n",
    "# 9 3 6 12 4 32 5 11 19\n",
    "# 4\n",
    "# 1 2 3 4\n",
    "# Sample Output 2 :\n",
    "# 3 9 12 6 32 4 11 5 19 \n",
    "# 2 1 4 3 "
   ]
  },
  {
   "cell_type": "code",
   "execution_count": 3,
   "id": "e0e8c71e",
   "metadata": {},
   "outputs": [
    {
     "name": "stdout",
     "output_type": "stream",
     "text": [
      "1 2 3 4 5\n",
      "2 1 4 3 5 "
     ]
    }
   ],
   "source": [
    "l = [int(s) for s in input().split()]\n",
    "b = len(l)\n",
    "for i in range(0,b-1,2):\n",
    "    temp = l[i];\n",
    "    l[i] = l[i+1]\n",
    "    l[i+1] = temp\n",
    "\n",
    "for i in l:\n",
    "    print(i, end=\" \")"
   ]
  },
  {
   "cell_type": "code",
   "execution_count": 2,
   "id": "25057b87",
   "metadata": {},
   "outputs": [
    {
     "name": "stdout",
     "output_type": "stream",
     "text": [
      "1 2 3 4 5\n",
      "2 1 4 3 5 "
     ]
    }
   ],
   "source": [
    "l = [int(i) for i in input().split()]\n",
    "\n",
    "x= len(l)\n",
    "if x%2!=0:\n",
    "    x= x-1\n",
    "    \n",
    "for j in range(0,x,2):    \n",
    "    num = l[j]\n",
    "    l[j]= l[j+1]\n",
    "    l[j+1]=num\n",
    "    \n",
    "for y in l:\n",
    "    print(y, end=' ')"
   ]
  }
 ],
 "metadata": {
  "kernelspec": {
   "display_name": "Python 3 (ipykernel)",
   "language": "python",
   "name": "python3"
  },
  "language_info": {
   "codemirror_mode": {
    "name": "ipython",
    "version": 3
   },
   "file_extension": ".py",
   "mimetype": "text/x-python",
   "name": "python",
   "nbconvert_exporter": "python",
   "pygments_lexer": "ipython3",
   "version": "3.9.12"
  }
 },
 "nbformat": 4,
 "nbformat_minor": 5
}
