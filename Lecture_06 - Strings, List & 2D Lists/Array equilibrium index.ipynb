{
 "cells": [
  {
   "cell_type": "code",
   "execution_count": 1,
   "id": "c1251c79",
   "metadata": {},
   "outputs": [],
   "source": [
    "# Array equilibrium index\n",
    "# For a given array/list(ARR) of size 'N,' find and return the 'Equilibrium Index' of the array/list.\n",
    "# Equilibrium Index of an array/list is an index 'i' such that the sum of elements at indices [0 to (i - 1)] is equal to the sum of elements at indices [(i + 1) to (N-1)]. One thing to note here is, the item at the index 'i' is not included in either part.\n",
    "# If more than one equilibrium indices are present, then the index appearing first in left to right fashion should be returned. Negative one(-1) if no such index is present.\n",
    "# Example:\n",
    "# Let's consider an array/list Arr = [2, 3, 10, -10, 4, 2, 9]  of size, N = 7.\n",
    "\n",
    "# There exist two equilibrium indices, one at 2 and another at 3.\n",
    "\n",
    "# At index 2, the sum of all the elements to the left, [2 + 3] is 5, and the elements to its right, [-10 + 4 + 2 + 9] is also 5. Hence index 2 is an equilibrium index according to the condition we want to achieve. Mind it that we haven't included the item at index 2, which is 10, to either of the parts.\n",
    "\n",
    "# Similarly, we can see at index 3, the elements to its left sum up to 15 and to the right, sum up to 15 either. \n",
    "\n",
    "# Since index 2 comes early in the order, left to right, the answer would be 2.\n",
    "# Input Format :\n",
    "# The first line contains an Integer 't' which denotes the number of test cases or queries to be run. Then the test cases follow.\n",
    "\n",
    "# The first line of each test case or query contains an integer 'N' representing the size of the first array/list.\n",
    "\n",
    "# The second line contains 'N' single space separated integers representing the elements of the array/list\n",
    "# Output Format :\n",
    "# For each test case, print the 'Equilibrium Index'.\n",
    "\n",
    "# Output for every test case will be printed in a separate line.\n",
    "# Constraints :\n",
    "# 1 <= t <= 10^2\n",
    "# 0 <= N <= 10^6\n",
    "\n",
    "# Time Limit: 1 sec \n",
    "# Sample Input 1 :\n",
    "# 1\n",
    "# 5\n",
    "# 1 4 9 3 2\n",
    "# Sample Output 1 :\n",
    "# 2\n",
    "# Sample Input 2 :\n",
    "# 2\n",
    "# 3\n",
    "# 1 4 6\n",
    "# 3\n",
    "# 1 -1 4\n",
    "# Sample Output 2 :\n",
    "# -1\n",
    "# 2"
   ]
  },
  {
   "cell_type": "code",
   "execution_count": 2,
   "id": "7e867b04",
   "metadata": {},
   "outputs": [
    {
     "name": "stdout",
     "output_type": "stream",
     "text": [
      "3\n",
      "1 -1 4\n",
      "2\n"
     ]
    }
   ],
   "source": [
    "def equilibriumIndex(arr):\n",
    "\n",
    "    total_sum = sum(arr) \n",
    "    leftsum = 0\n",
    "    for i, num in enumerate(arr): \n",
    "          \n",
    "       \n",
    "        total_sum -= num \n",
    "          \n",
    "        if leftsum == total_sum: \n",
    "            return i \n",
    "        leftsum += num \n",
    " \n",
    "    return -1\n",
    "\n",
    "\n",
    "n = int(input())\n",
    "arr = [int(i) for i in input().strip().split()]\n",
    "print(equilibriumIndex(arr))"
   ]
  }
 ],
 "metadata": {
  "kernelspec": {
   "display_name": "Python 3 (ipykernel)",
   "language": "python",
   "name": "python3"
  },
  "language_info": {
   "codemirror_mode": {
    "name": "ipython",
    "version": 3
   },
   "file_extension": ".py",
   "mimetype": "text/x-python",
   "name": "python",
   "nbconvert_exporter": "python",
   "pygments_lexer": "ipython3",
   "version": "3.9.12"
  }
 },
 "nbformat": 4,
 "nbformat_minor": 5
}
