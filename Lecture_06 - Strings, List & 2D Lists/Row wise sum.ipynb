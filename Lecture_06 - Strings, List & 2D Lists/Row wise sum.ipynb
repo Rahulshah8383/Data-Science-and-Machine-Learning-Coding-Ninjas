{
 "cells": [
  {
   "cell_type": "code",
   "execution_count": 1,
   "id": "bb7d301c",
   "metadata": {},
   "outputs": [],
   "source": [
    "# Row wise sum\n",
    "# For a given two-dimensional integer array/list of size (N x M), find and print the sum of each of the row elements in a single line, separated by a single space.\n",
    "# Input Format :\n",
    "# The first line contains an Integer 't' which denotes the number of test cases or queries to be run. Then the test cases follow.\n",
    "\n",
    "# First line of each test case or query contains two integer values, 'N' and 'M', separated by a single space. They represent the 'rows' and 'columns' respectively, for the two-dimensional array/list.\n",
    "\n",
    "# Second line onwards, the next 'N' lines or rows represent the ith row values.\n",
    "\n",
    "# Each of the ith row constitutes 'M' column values separated by a single space.\n",
    "# Output Format :\n",
    "# For each test case, print the sum of every ith row elements in a single line separated by a single space.\n",
    "\n",
    "# Output for every test case will be printed in a seperate line.\n",
    "# Constraints :\n",
    "# 1 <= t <= 10^2\n",
    "# 0 <= N <= 10^3\n",
    "# 0 <= M <= 10^3\n",
    "# Time Limit: 1sec\n",
    "# Sample Input 1:\n",
    "# 1\n",
    "# 4 2 \n",
    "# 1 2 \n",
    "# 3 4 \n",
    "# 5 6 \n",
    "# 7 8\n",
    "# Sample Output 1:\n",
    "# 3 7 11 15 \n",
    "# Sample Input 2:\n",
    "# 2\n",
    "# 2 5 \n",
    "# 4 5 3 2 6 \n",
    "# 7 5 3 8 9\n",
    "# 4 4\n",
    "# 1 2 3 4\n",
    "# 9 8 7 6\n",
    "# 3 4 5 6\n",
    "# -1 1 -10 5\n",
    "# Sample Output 2:\n",
    "# 20 32 \n",
    "# 10 30 18 -5 "
   ]
  },
  {
   "cell_type": "code",
   "execution_count": 4,
   "id": "437010c9",
   "metadata": {},
   "outputs": [
    {
     "name": "stdout",
     "output_type": "stream",
     "text": [
      "2 5\n",
      "4 5 3 2 6\n",
      "7 5 3 8 9\n",
      "20 32 "
     ]
    }
   ],
   "source": [
    "def rowWiseSum(arr):\n",
    " \n",
    "    m = len(arr)\n",
    "    if(m==0):\n",
    "        return -1\n",
    "    n = len(arr[0])\n",
    "    sum_i=0\n",
    "    for i in range(m):\n",
    "        sum_j=0\n",
    "        for j in range(n):\n",
    "            sum_j = sum_j + arr[i][j]\n",
    "        print(sum_j,end=\" \")\n",
    "    return\n",
    "\n",
    "sizes = input().split()\n",
    "m = int(sizes[0])\n",
    "n = int(sizes[1])\n",
    "arr = []\n",
    "for i in range(m):\n",
    "    next_row = [int(i) for i in input().split()]\n",
    "    arr.append(next_row)\n",
    "rowWiseSum(arr)"
   ]
  }
 ],
 "metadata": {
  "kernelspec": {
   "display_name": "Python 3 (ipykernel)",
   "language": "python",
   "name": "python3"
  },
  "language_info": {
   "codemirror_mode": {
    "name": "ipython",
    "version": 3
   },
   "file_extension": ".py",
   "mimetype": "text/x-python",
   "name": "python",
   "nbconvert_exporter": "python",
   "pygments_lexer": "ipython3",
   "version": "3.9.12"
  }
 },
 "nbformat": 4,
 "nbformat_minor": 5
}
