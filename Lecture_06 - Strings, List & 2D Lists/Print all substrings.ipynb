{
 "cells": [
  {
   "cell_type": "code",
   "execution_count": 1,
   "id": "ef3473cf",
   "metadata": {},
   "outputs": [],
   "source": [
    "# Print all substrings\n",
    "# For a given input string(str), write a function to print all the possible substrings.\n",
    "# Substring\n",
    "# A substring is a contiguous sequence of characters within a string. \n",
    "# Example: \"cod\" is a substring of \"coding\". Whereas, \"cdng\" is not as the characters taken are not contiguous\n",
    "# Input Format:\n",
    "# The first and only line of input contains a string without any leading and trailing spaces. All the characters in the string would be in lower case.\n",
    "# Output Format:\n",
    "# Print the total number of substrings possible, where every substring is printed on a single line and hence the total number of output lines will be equal to the total number of substrings.\n",
    "# Note:\n",
    "# The order in which the substrings are printed, does not matter.\n",
    "# Constraints:\n",
    "# 0 <= N <= 10^6\n",
    "# Where N is the length of the input string.\n",
    "\n",
    "# Time Limit: 1 second\n",
    "# Sample Input 1:\n",
    "# abc\n",
    "# Sample Output 1:\n",
    "# a \n",
    "# ab \n",
    "# abc \n",
    "# b \n",
    "# bc \n",
    "# c \n",
    "#  Sample Input 2:\n",
    "# co\n",
    "# Sample Output 2:\n",
    "# c \n",
    "# co \n",
    "# o"
   ]
  },
  {
   "cell_type": "code",
   "execution_count": 1,
   "id": "2959047b",
   "metadata": {},
   "outputs": [
    {
     "name": "stdout",
     "output_type": "stream",
     "text": [
      "abc\n",
      "a\n",
      "ab\n",
      "abc\n",
      "b\n",
      "bc\n",
      "c\n"
     ]
    }
   ],
   "source": [
    "def substring(s,n):\n",
    "    for i in range(n):\n",
    "        for len in range(i+1,n+1):\n",
    "            print(s[i:len])\n",
    "            \n",
    "s = input()\n",
    "substring(s,len(s))"
   ]
  }
 ],
 "metadata": {
  "kernelspec": {
   "display_name": "Python 3 (ipykernel)",
   "language": "python",
   "name": "python3"
  },
  "language_info": {
   "codemirror_mode": {
    "name": "ipython",
    "version": 3
   },
   "file_extension": ".py",
   "mimetype": "text/x-python",
   "name": "python",
   "nbconvert_exporter": "python",
   "pygments_lexer": "ipython3",
   "version": "3.9.12"
  }
 },
 "nbformat": 4,
 "nbformat_minor": 5
}
