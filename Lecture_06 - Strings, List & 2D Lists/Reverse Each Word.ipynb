{
 "cells": [
  {
   "cell_type": "code",
   "execution_count": 1,
   "id": "64793943",
   "metadata": {},
   "outputs": [],
   "source": [
    "# Reverse Each Word\n",
    "# Aadil has been provided with a sentence in the form of a string as a function parameter. The task is to implement a function so as to print the sentence such that each word in the sentence is reversed.\n",
    "# Example:\n",
    "# Input Sentence: \"Hello, I am Aadil!\"\n",
    "# The expected output will print, \",olleH I ma !lidaA\".\n",
    "# Input Format:\n",
    "# The first and only line of input contains a string without any leading and trailing spaces. The input string represents the sentence given to Aadil.\n",
    "# Output Format:\n",
    "# The only line of output prints the sentence(string) such that each word in the sentence is reversed. \n",
    "# Constraints:\n",
    "# 0 <= N <= 10^6\n",
    "# Where N is the length of the input string.\n",
    "\n",
    "# Time Limit: 1 second\n",
    "# Sample Input 1:\n",
    "# Welcome to Coding Ninjas\n",
    "# Sample Output 1:\n",
    "# emocleW ot gnidoC sajniN\n",
    "# Sample Input 2:\n",
    "# Always indent your code\n",
    "# Sample Output 2:\n",
    "# syawlA tnedni ruoy edoc"
   ]
  },
  {
   "cell_type": "code",
   "execution_count": 2,
   "id": "84f4ba37",
   "metadata": {},
   "outputs": [
    {
     "name": "stdout",
     "output_type": "stream",
     "text": [
      "Welcome to Coding Ninjas\n",
      "emocleW ot gnidoC sajniN "
     ]
    }
   ],
   "source": [
    "str = input().split()\n",
    "words = len(str)\n",
    "\n",
    "def reverse(s):\n",
    "    print(s[::-1],end=\" \")\n",
    "\n",
    "for i in range(0,words):\n",
    "    reverse(str[i])"
   ]
  }
 ],
 "metadata": {
  "kernelspec": {
   "display_name": "Python 3 (ipykernel)",
   "language": "python",
   "name": "python3"
  },
  "language_info": {
   "codemirror_mode": {
    "name": "ipython",
    "version": 3
   },
   "file_extension": ".py",
   "mimetype": "text/x-python",
   "name": "python",
   "nbconvert_exporter": "python",
   "pygments_lexer": "ipython3",
   "version": "3.9.12"
  }
 },
 "nbformat": 4,
 "nbformat_minor": 5
}
