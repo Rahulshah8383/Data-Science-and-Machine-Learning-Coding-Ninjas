{
 "cells": [
  {
   "cell_type": "code",
   "execution_count": 1,
   "id": "40598d81",
   "metadata": {},
   "outputs": [],
   "source": [
    "# Remove Consecutive Duplicates\n",
    "# For a given string(str), remove all the consecutive duplicate characters.\n",
    "# Example:\n",
    "# Input String: \"aaaa\"\n",
    "# Expected Output: \"a\"\n",
    "\n",
    "# Input String: \"aabbbcc\"\n",
    "# Expected Output: \"abc\"\n",
    "#  Input Format:\n",
    "# The first and only line of input contains a string without any leading and trailing spaces. All the characters in the string would be in lower case.\n",
    "# Output Format:\n",
    "# The only line of output prints the updated string.\n",
    "# Note:\n",
    "# You are not required to print anything. It has already been taken care of.\n",
    "# Constraints:\n",
    "# 0 <= N <= 10^6\n",
    "# Where N is the length of the input string.\n",
    "\n",
    "# Time Limit: 1 second\n",
    "# Sample Input 1:\n",
    "# aabccbaa\n",
    "# Sample Output 1:\n",
    "# abcba\n",
    "# Sample Input 2:\n",
    "# xxyyzxx\n",
    "# Sample Output 2:\n",
    "# xyzx"
   ]
  },
  {
   "cell_type": "code",
   "execution_count": 2,
   "id": "6e722b87",
   "metadata": {},
   "outputs": [
    {
     "name": "stdout",
     "output_type": "stream",
     "text": [
      "aabccbaa\n",
      "abcba"
     ]
    }
   ],
   "source": [
    "str = input()\n",
    "str1 = []\n",
    "count = 0\n",
    "for i in range(0,len(str)-1):\n",
    "    if str[i] == str[i+1]:\n",
    "        count = count + 1\n",
    "    elif str[i] != str[i+1] and count > 0:\n",
    "        str1.append(str[i])\n",
    "        count = 0\n",
    "    else:\n",
    "        str1.append(str[i])\n",
    "str1.append(str[i+1])\n",
    "\n",
    "for ele in str1:\n",
    "    print(ele,end=\"\")"
   ]
  }
 ],
 "metadata": {
  "kernelspec": {
   "display_name": "Python 3 (ipykernel)",
   "language": "python",
   "name": "python3"
  },
  "language_info": {
   "codemirror_mode": {
    "name": "ipython",
    "version": 3
   },
   "file_extension": ".py",
   "mimetype": "text/x-python",
   "name": "python",
   "nbconvert_exporter": "python",
   "pygments_lexer": "ipython3",
   "version": "3.9.12"
  }
 },
 "nbformat": 4,
 "nbformat_minor": 5
}
