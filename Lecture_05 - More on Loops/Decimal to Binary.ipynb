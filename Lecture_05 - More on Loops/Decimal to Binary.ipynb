{
 "cells": [
  {
   "cell_type": "code",
   "execution_count": 1,
   "id": "766fb26e",
   "metadata": {},
   "outputs": [],
   "source": [
    "# Decimal to Binary\n",
    "# Given a decimal number (integer N), convert it into binary and print.\n",
    "# The binary number should be in the form of an integer.\n",
    "# Note : The given input number could be large, so the corresponding binary number can exceed the integer range. So you may want to take the answer as long for CPP and Java.\n",
    " \n",
    "# Input format :\n",
    "# Integer N\n",
    "# Output format :\n",
    "# Corresponding Binary number (long)\n",
    "# Constraints :\n",
    "# 0 <= N <= 10^5\n",
    "# Sample Input 1 :\n",
    "# 12\n",
    "# Sample Output 1 :\n",
    "# 1100\n",
    "# Sample Input 2 :\n",
    "# 7\n",
    "# Sample Output 2 :\n",
    "# 111"
   ]
  },
  {
   "cell_type": "code",
   "execution_count": 1,
   "id": "432bea52",
   "metadata": {},
   "outputs": [
    {
     "name": "stdout",
     "output_type": "stream",
     "text": [
      "7\n",
      "111\n"
     ]
    }
   ],
   "source": [
    "n = int(input())\n",
    "i = 1\n",
    "binary = 0\n",
    "while n!=0:\n",
    "    rem = n%2\n",
    "    n = n//2\n",
    "    binary = binary + rem*i\n",
    "    i = i*10\n",
    "\n",
    "print(binary)"
   ]
  }
 ],
 "metadata": {
  "kernelspec": {
   "display_name": "Python 3 (ipykernel)",
   "language": "python",
   "name": "python3"
  },
  "language_info": {
   "codemirror_mode": {
    "name": "ipython",
    "version": 3
   },
   "file_extension": ".py",
   "mimetype": "text/x-python",
   "name": "python",
   "nbconvert_exporter": "python",
   "pygments_lexer": "ipython3",
   "version": "3.9.12"
  }
 },
 "nbformat": 4,
 "nbformat_minor": 5
}
