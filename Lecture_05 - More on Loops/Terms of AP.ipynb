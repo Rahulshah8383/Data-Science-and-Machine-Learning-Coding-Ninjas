{
 "cells": [
  {
   "cell_type": "code",
   "execution_count": 1,
   "id": "06eda300",
   "metadata": {},
   "outputs": [],
   "source": [
    "# Write a program to print first x terms of the series 3N + 2 which are not multiples of 4.\n",
    "# Input format :\n",
    "# Integer x\n",
    "# Output format :\n",
    "# Terms of series (separated by space)\n",
    "# Constraints :\n",
    "# 1 <= x <= 1,000\n",
    "# Sample Input 1 :\n",
    "# 10\n",
    "# Sample Output 1 :\n",
    "# 5 11 14 17 23 26 29 35 38 41\n",
    "# Sample Input 2 :\n",
    "# 4\n",
    "# Sample Output 2 :\n",
    "# 5 11 14 17"
   ]
  },
  {
   "cell_type": "code",
   "execution_count": 12,
   "id": "09d1994f",
   "metadata": {},
   "outputs": [
    {
     "name": "stdout",
     "output_type": "stream",
     "text": [
      "4\n",
      "5 11 14 17 "
     ]
    }
   ],
   "source": [
    "n = int(input())\n",
    "\n",
    "a = 1\n",
    "b = 1\n",
    "while a<=n:\n",
    "    k = 3*b + 2\n",
    "    b = b + 1\n",
    "    if(k%4==0):\n",
    "        continue\n",
    "    print(k, end=\" \")\n",
    "    a = a + 1"
   ]
  },
  {
   "cell_type": "code",
   "execution_count": 11,
   "id": "6c02d02a",
   "metadata": {},
   "outputs": [
    {
     "name": "stdout",
     "output_type": "stream",
     "text": [
      "4\n",
      "5 11 14 "
     ]
    }
   ],
   "source": [
    "n = int(input())\n",
    "j = 1\n",
    "k = 1\n",
    "while k<n:\n",
    "    result = 3*j + 2\n",
    "    j = j + 1\n",
    "    if(result%4==0):\n",
    "        continue\n",
    "    print(result,end=\" \")\n",
    "    k = k + 1"
   ]
  }
 ],
 "metadata": {
  "kernelspec": {
   "display_name": "Python 3 (ipykernel)",
   "language": "python",
   "name": "python3"
  },
  "language_info": {
   "codemirror_mode": {
    "name": "ipython",
    "version": 3
   },
   "file_extension": ".py",
   "mimetype": "text/x-python",
   "name": "python",
   "nbconvert_exporter": "python",
   "pygments_lexer": "ipython3",
   "version": "3.9.12"
  }
 },
 "nbformat": 4,
 "nbformat_minor": 5
}
