{
 "cells": [
  {
   "cell_type": "code",
   "execution_count": 2,
   "id": "92c33a8e",
   "metadata": {},
   "outputs": [],
   "source": [
    "# Sum or product\n",
    "# Write a program that asks the user for a number N and a choice C. And then give them the possibility to choose between computing the sum and computing the product of all integers in the range 1 to N (both inclusive).\n",
    "# If C is equal to -\n",
    "#  1, then print the sum\n",
    "#  2, then print the product\n",
    "#  Any other number, then print '-1' (without the quotes)\n",
    "# Input format :\n",
    "# Line 1 : Integer N\n",
    "# Line 2 : Choice C\n",
    "# Output Format :\n",
    "#  Sum or product according to user's choice\n",
    "# Constraints :\n",
    "# 1 <= N <= 12\n",
    "# Sample Input 1 :\n",
    "# 10\n",
    "# 1\n",
    "# Sample Output 1 :\n",
    "# 55\n",
    "# Sample Input 2 :\n",
    "# 10\n",
    "# 2\n",
    "# Sample Output 2 :\n",
    "# 3628800\n",
    "# Sample Input 3 :\n",
    "# 10\n",
    "# 4\n",
    "# Sample Output 3 :\n",
    "# -1"
   ]
  },
  {
   "cell_type": "code",
   "execution_count": 1,
   "id": "222c23cc",
   "metadata": {},
   "outputs": [
    {
     "name": "stdout",
     "output_type": "stream",
     "text": [
      "10\n",
      "4\n",
      "-1\n"
     ]
    }
   ],
   "source": [
    "def summation(n):\n",
    "    adding = 0\n",
    "    while n != 0:\n",
    "        adding = adding + n\n",
    "        n = n - 1\n",
    "    print(adding)\n",
    "\n",
    "def factorial(n):\n",
    "    product = 1\n",
    "    while n != 0:\n",
    "        product = product * n\n",
    "        n = n - 1\n",
    "    print(product)\n",
    "\n",
    "n =0\n",
    "num = int(input())\n",
    "choice = int(input())\n",
    "\n",
    "if choice == 1:\n",
    "     summation(num)\n",
    "\n",
    "elif choice == 2:\n",
    "    factorial(num)\n",
    "\n",
    "else:\n",
    "    print(-1)"
   ]
  }
 ],
 "metadata": {
  "kernelspec": {
   "display_name": "Python 3 (ipykernel)",
   "language": "python",
   "name": "python3"
  },
  "language_info": {
   "codemirror_mode": {
    "name": "ipython",
    "version": 3
   },
   "file_extension": ".py",
   "mimetype": "text/x-python",
   "name": "python",
   "nbconvert_exporter": "python",
   "pygments_lexer": "ipython3",
   "version": "3.9.12"
  }
 },
 "nbformat": 4,
 "nbformat_minor": 5
}
