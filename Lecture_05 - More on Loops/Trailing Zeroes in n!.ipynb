{
 "cells": [
  {
   "cell_type": "code",
   "execution_count": 1,
   "id": "f666da77",
   "metadata": {},
   "outputs": [],
   "source": [
    "# Trailing zeroes in n!\n",
    "# Find and return number of trailing 0s in n factorial without calculating n factorial.\n",
    "\n",
    "# Sample input\n",
    "# 50\n",
    "\n",
    "# Sample ouput\n",
    "# 12\n",
    "\n",
    "# input size Limit\n",
    "# n < 10^11"
   ]
  },
  {
   "cell_type": "code",
   "execution_count": 2,
   "id": "4d33e810",
   "metadata": {},
   "outputs": [
    {
     "name": "stdout",
     "output_type": "stream",
     "text": [
      "50\n",
      "12\n"
     ]
    }
   ],
   "source": [
    "def findTrailingZeros(n):  \n",
    "    count = 0\n",
    "    i=5\n",
    "    while (n/i>=1): \n",
    "        count += int(n/i) \n",
    "        i *= 5\n",
    "  \n",
    "    return int(count) \n",
    "\n",
    "n = int(input())\n",
    "print(findTrailingZeros(n)) "
   ]
  }
 ],
 "metadata": {
  "kernelspec": {
   "display_name": "Python 3 (ipykernel)",
   "language": "python",
   "name": "python3"
  },
  "language_info": {
   "codemirror_mode": {
    "name": "ipython",
    "version": 3
   },
   "file_extension": ".py",
   "mimetype": "text/x-python",
   "name": "python",
   "nbconvert_exporter": "python",
   "pygments_lexer": "ipython3",
   "version": "3.9.12"
  }
 },
 "nbformat": 4,
 "nbformat_minor": 5
}
