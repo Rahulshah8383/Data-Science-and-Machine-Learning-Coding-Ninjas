{
 "cells": [
  {
   "cell_type": "code",
   "execution_count": null,
   "id": "b9c1e4ab",
   "metadata": {},
   "outputs": [],
   "source": [
    "# Even Fibonacci Numbers\n",
    "# Given a number N find the sum of all the even valued terms in the fibonacci sequence less than or equal to N. Try generating only even fibonacci numbers instead of iterating over all Fibonacci numbers.\n",
    "# Input Format\n",
    "# Line 1 : An integer N\n",
    "# Output Format\n",
    "# Total Sum\n",
    "# Input Constraints\n",
    "# 1 <= N <= 10^6\n",
    "# Sample Input 1:\n",
    "# 8\n",
    "# Sample Output 1 :\n",
    "# 10\n",
    "# Sample Input 2:\n",
    "# 400\n",
    "# Sample Output 2:\n",
    "# 188"
   ]
  },
  {
   "cell_type": "code",
   "execution_count": 1,
   "id": "0977e379",
   "metadata": {},
   "outputs": [
    {
     "name": "stdout",
     "output_type": "stream",
     "text": [
      "400\n",
      "188\n"
     ]
    }
   ],
   "source": [
    "def evenFibSum(limit) : \n",
    "    if (limit < 2) : \n",
    "        return 0 \n",
    "    ef1 = 0\n",
    "    ef2 = 2\n",
    "    sm= ef1 + ef2 \n",
    "\n",
    "    while (ef2 <= limit) : \n",
    "        ef3 = 4 * ef2 + ef1 \n",
    "   \n",
    "        if (ef3 > limit) : \n",
    "            break\n",
    "\n",
    "        ef1 = ef2 \n",
    "        ef2 = ef3 \n",
    "        sm = sm + ef2 \n",
    "      \n",
    "    return sm \n",
    "   \n",
    "limit = int(input())\n",
    "print(evenFibSum(limit)) "
   ]
  }
 ],
 "metadata": {
  "kernelspec": {
   "display_name": "Python 3 (ipykernel)",
   "language": "python",
   "name": "python3"
  },
  "language_info": {
   "codemirror_mode": {
    "name": "ipython",
    "version": 3
   },
   "file_extension": ".py",
   "mimetype": "text/x-python",
   "name": "python",
   "nbconvert_exporter": "python",
   "pygments_lexer": "ipython3",
   "version": "3.9.12"
  }
 },
 "nbformat": 4,
 "nbformat_minor": 5
}
