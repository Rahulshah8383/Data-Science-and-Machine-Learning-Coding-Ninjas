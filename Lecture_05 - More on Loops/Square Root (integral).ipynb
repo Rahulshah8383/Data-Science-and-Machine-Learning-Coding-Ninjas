{
 "cells": [
  {
   "cell_type": "code",
   "execution_count": 1,
   "id": "243b213a",
   "metadata": {},
   "outputs": [],
   "source": [
    "# Square Root (Integral)\n",
    "# Given a number N, find its square root. You need to find and print only the integral part of square root of N.\n",
    "# For eg. if number given is 18, answer is 4.\n",
    "# Input format :\n",
    "# Integer N\n",
    "# Output Format :\n",
    "# Square root of N (integer part only)\n",
    "# Constraints :\n",
    "# 0 <= N <= 10^8\n",
    "# Sample Input 1 :\n",
    "# 10\n",
    "# Sample Output 1 :\n",
    "# 3\n",
    "# Sample Input 2 :\n",
    "# 4\n",
    "# Sample Output 2 :\n",
    "# 2"
   ]
  },
  {
   "cell_type": "code",
   "execution_count": 1,
   "id": "fdb5fb01",
   "metadata": {},
   "outputs": [
    {
     "name": "stdout",
     "output_type": "stream",
     "text": [
      "10\n",
      "3\n"
     ]
    }
   ],
   "source": [
    "n = int(input())\n",
    "\n",
    "i = 1\n",
    "while True:\n",
    "    if i*i>n:\n",
    "        i = i -1\n",
    "        break\n",
    "    i = i + 1\n",
    "\n",
    "print(i)"
   ]
  }
 ],
 "metadata": {
  "kernelspec": {
   "display_name": "Python 3 (ipykernel)",
   "language": "python",
   "name": "python3"
  },
  "language_info": {
   "codemirror_mode": {
    "name": "ipython",
    "version": 3
   },
   "file_extension": ".py",
   "mimetype": "text/x-python",
   "name": "python",
   "nbconvert_exporter": "python",
   "pygments_lexer": "ipython3",
   "version": "3.9.12"
  }
 },
 "nbformat": 4,
 "nbformat_minor": 5
}
