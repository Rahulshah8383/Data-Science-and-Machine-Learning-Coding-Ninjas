{
 "cells": [
  {
   "cell_type": "code",
   "execution_count": null,
   "id": "b7c62304",
   "metadata": {},
   "outputs": [],
   "source": [
    "# Binary to decimal\n",
    "# Given a binary number as an integer N, convert it into decimal and print.\n",
    "# Input format :\n",
    "# An integer N in the Binary Format\n",
    "# Output format :\n",
    "# Corresponding Decimal number (as integer)\n",
    "# Constraints :\n",
    "# 0 <= N <= 10^9\n",
    "# Sample Input 1 :\n",
    "# 1100\n",
    "# Sample Output 1 :\n",
    "# 12\n",
    "# Sample Input 2 :\n",
    "# 111\n",
    "# Sample Output 2 :\n",
    "# 7"
   ]
  },
  {
   "cell_type": "code",
   "execution_count": 3,
   "id": "f5ed3d7a",
   "metadata": {},
   "outputs": [
    {
     "name": "stdout",
     "output_type": "stream",
     "text": [
      "111\n",
      "7\n"
     ]
    }
   ],
   "source": [
    "n = int(input())\n",
    "decimal = 0\n",
    "for i in range(0,n):\n",
    "    decimal = decimal + pow(2,i)*(n%10)\n",
    "    n = n//10\n",
    "print(decimal)"
   ]
  }
 ],
 "metadata": {
  "kernelspec": {
   "display_name": "Python 3 (ipykernel)",
   "language": "python",
   "name": "python3"
  },
  "language_info": {
   "codemirror_mode": {
    "name": "ipython",
    "version": 3
   },
   "file_extension": ".py",
   "mimetype": "text/x-python",
   "name": "python",
   "nbconvert_exporter": "python",
   "pygments_lexer": "ipython3",
   "version": "3.9.12"
  }
 },
 "nbformat": 4,
 "nbformat_minor": 5
}
