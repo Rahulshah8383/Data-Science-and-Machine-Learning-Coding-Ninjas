{
 "cells": [
  {
   "cell_type": "code",
   "execution_count": 1,
   "id": "9f261ef9",
   "metadata": {},
   "outputs": [],
   "source": [
    "## Reverse of a number\n",
    "# Write a program to generate the reverse of a given number N. Print the corresponding reverse number.\n",
    "# Note : If a number has trailing zeros, then its reverse will not include them. For e.g., reverse of 10400 will be 401 instead of 00401.\n",
    " \n",
    "# Input format :\n",
    "# Integer N\n",
    "# Output format :\n",
    "# Corresponding reverse number\n",
    "# Constraints:\n",
    "# 0 <= N < 10^8\n",
    "# Sample Input 1 :\n",
    "# 1234\n",
    "# Sample Output 1 :\n",
    "# 4321\n",
    "# Sample Input 2 :\n",
    "# 1980\n",
    "# Sample Output 2 :\n",
    "# 891 "
   ]
  },
  {
   "cell_type": "code",
   "execution_count": 1,
   "id": "01c15448",
   "metadata": {},
   "outputs": [
    {
     "name": "stdout",
     "output_type": "stream",
     "text": [
      "1980\n",
      "891\n"
     ]
    }
   ],
   "source": [
    "n = int(input())\n",
    "sum=0\n",
    "while n!=0:\n",
    "    k = n%10\n",
    "    sum = sum*10 + k\n",
    "    n = n//10\n",
    "\n",
    "print(sum)"
   ]
  }
 ],
 "metadata": {
  "kernelspec": {
   "display_name": "Python 3 (ipykernel)",
   "language": "python",
   "name": "python3"
  },
  "language_info": {
   "codemirror_mode": {
    "name": "ipython",
    "version": 3
   },
   "file_extension": ".py",
   "mimetype": "text/x-python",
   "name": "python",
   "nbconvert_exporter": "python",
   "pygments_lexer": "ipython3",
   "version": "3.9.12"
  }
 },
 "nbformat": 4,
 "nbformat_minor": 5
}
