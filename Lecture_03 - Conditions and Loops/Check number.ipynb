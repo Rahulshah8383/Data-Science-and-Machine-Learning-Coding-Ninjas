{
 "cells": [
  {
   "cell_type": "code",
   "execution_count": null,
   "id": "821aa844",
   "metadata": {},
   "outputs": [],
   "source": [
    "# Check Number\n",
    "# Write a program that takes a character as input and prints either 1, 0 or -1 according to the following rules.\n",
    "# if n is positive, print \"Positive\"\n",
    "# if n is Negative, print \"Negative\"\n",
    "# and if n is equal to 0, print \"Zero\"\n",
    "\n",
    "# Input format :\n",
    "# integer n\n",
    "\n",
    "# Output format :\n",
    "# \"Positive\" or\"Negative\" of \"Zero\" (without double quotes) \n",
    "\n",
    "# Constraints :\n",
    "# 1 <= n <= 100\n",
    "\n",
    "# Sample Input 1 :\n",
    "# 10\n",
    "# Sample Output 1 :\n",
    "# Positive\n",
    "# Sample Input 2 :\n",
    "# -10\n",
    "# Sample Output 2 :\n",
    "# Negative"
   ]
  },
  {
   "cell_type": "code",
   "execution_count": 1,
   "id": "1ea1fd29",
   "metadata": {},
   "outputs": [
    {
     "name": "stdout",
     "output_type": "stream",
     "text": [
      "5\n",
      "Positive\n"
     ]
    }
   ],
   "source": [
    "n = int(input())\n",
    "\n",
    "if n>0:\n",
    "    print(\"Positive\")\n",
    "elif n<0:\n",
    "    print(\"Negative\")\n",
    "else:\n",
    "    print(\"Zero\")"
   ]
  }
 ],
 "metadata": {
  "kernelspec": {
   "display_name": "Python 3 (ipykernel)",
   "language": "python",
   "name": "python3"
  },
  "language_info": {
   "codemirror_mode": {
    "name": "ipython",
    "version": 3
   },
   "file_extension": ".py",
   "mimetype": "text/x-python",
   "name": "python",
   "nbconvert_exporter": "python",
   "pygments_lexer": "ipython3",
   "version": "3.9.12"
  }
 },
 "nbformat": 4,
 "nbformat_minor": 5
}
