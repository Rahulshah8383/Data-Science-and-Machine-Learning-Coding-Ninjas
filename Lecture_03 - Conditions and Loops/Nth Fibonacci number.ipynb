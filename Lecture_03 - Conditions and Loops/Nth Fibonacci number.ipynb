{
 "cells": [
  {
   "cell_type": "code",
   "execution_count": null,
   "id": "09118704",
   "metadata": {},
   "outputs": [],
   "source": [
    "# Nth Fibonacci number\n",
    "# Nth term of fibonacci series F(n) is calculated using following formula -\n",
    "#     F(n) = F(n-1) + F(n-2), \n",
    "#     Where, F(1) = F(2) = 1\n",
    "# Provided N you have to find out the Nth Fibonacci Number.\n",
    "# Input Format :\n",
    "# Integer n\n",
    "# Output Format :\n",
    "# Nth Fibonacci term i.e. F(n)\n",
    "# Constraints:\n",
    "# 1 <= n <= 25\n",
    "# Sample Input 1:\n",
    "# 4\n",
    "# Sample Output 2:\n",
    "# 3 \n",
    "# Sample Input 1:\n",
    "# 6\n",
    "# Sample Output 2:\n",
    "# 8"
   ]
  },
  {
   "cell_type": "code",
   "execution_count": 1,
   "id": "5d900a73",
   "metadata": {},
   "outputs": [
    {
     "name": "stdout",
     "output_type": "stream",
     "text": [
      "6\n",
      "8\n"
     ]
    }
   ],
   "source": [
    "n = int(input())\n",
    "a = 0\n",
    "b = 1\n",
    "\n",
    "if(n==0):\n",
    "    print(a)\n",
    "elif(n==1):\n",
    "    print(b)\n",
    "else:\n",
    "    while(n>1):\n",
    "        c = b + a\n",
    "        a = b\n",
    "        b = c\n",
    "        n = n -1\n",
    "    print(c)"
   ]
  }
 ],
 "metadata": {
  "kernelspec": {
   "display_name": "Python 3 (ipykernel)",
   "language": "python",
   "name": "python3"
  },
  "language_info": {
   "codemirror_mode": {
    "name": "ipython",
    "version": 3
   },
   "file_extension": ".py",
   "mimetype": "text/x-python",
   "name": "python",
   "nbconvert_exporter": "python",
   "pygments_lexer": "ipython3",
   "version": "3.9.12"
  }
 },
 "nbformat": 4,
 "nbformat_minor": 5
}
