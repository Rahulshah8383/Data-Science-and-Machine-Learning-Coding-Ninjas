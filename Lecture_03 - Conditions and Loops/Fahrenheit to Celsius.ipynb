{
 "cells": [
  {
   "cell_type": "code",
   "execution_count": null,
   "id": "7e9ad0f7",
   "metadata": {},
   "outputs": [],
   "source": [
    "# Fahrenheit to Celsius\n",
    "# Given three values - Start Fahrenheit Value (S), End Fahrenheit value (E) and Step Size (W), you need to convert all \n",
    "# Fahrenheit values from Start to End at the gap of W, into their corresponding Celsius values and print the table.\n",
    "\n",
    "# Input Format :\n",
    "# 3 integers - S, E and W respectively \n",
    "\n",
    "# Output Format :\n",
    "# Fahrenheit to Celsius conversion table. One line for every Fahrenheit and corresponding Celsius value. On Fahrenheit value \n",
    "# and its corresponding Celsius value should be separate by tab (\"\\t\")\n",
    "\n",
    "# Constraints :\n",
    "# 0 <= S <= 80\n",
    "# S <= E <=  900\n",
    "# 0 <= W <= 40 \n",
    "# Sample Input 1:\n",
    "# 0 \n",
    "# 100 \n",
    "# 20\n",
    "# Sample Output 1:\n",
    "# 0   -17\n",
    "# 20  -6\n",
    "# 40  4\n",
    "# 60  15\n",
    "# 80  26\n",
    "# 100 37\n",
    "# Sample Input 2:\n",
    "# 20\n",
    "# 119\n",
    "# 13\n",
    "# Sample Output 2:\n",
    "# 20  -6\n",
    "# 33  0 \n",
    "# 46  7\n",
    "# 59  15\n",
    "# 72  22\n",
    "# 85  29\n",
    "# 98  36\n",
    "# 111 43\n",
    "# Explanation For Input 2:\n",
    "# We need need to start calculating the Celsius values for each of the Fahrenheit Value which starts from 20. So starting from \n",
    "# 20 which is the given Fahrenheit start value, we need to compute its corresponding Celsius value which computes to -6. We \n",
    "# print this information as <Fahrenheit Value> a tab space\"\\t\" <Celsius Value> on each line for each step of 13 we take to get \n",
    "# the next value of Fahrenheit and extend this idea till we reach the end that is till 119 in this case. You may or may not \n",
    "# exactly land on the end value depending on the steps you are taking.\n"
   ]
  },
  {
   "cell_type": "code",
   "execution_count": 1,
   "id": "dc8c2561",
   "metadata": {},
   "outputs": [
    {
     "name": "stdout",
     "output_type": "stream",
     "text": [
      "3\n",
      "5\n",
      "6\n",
      "3 \t -16\n"
     ]
    }
   ],
   "source": [
    "start = int(input())\n",
    "end = int(input())\n",
    "gap = int(input())\n",
    "\n",
    "while start<=end:\n",
    "    c = -int((32 - start)*(5/9))\n",
    "    print(start,\"\\t\",c)\n",
    "    start = start + gap"
   ]
  }
 ],
 "metadata": {
  "kernelspec": {
   "display_name": "Python 3 (ipykernel)",
   "language": "python",
   "name": "python3"
  },
  "language_info": {
   "codemirror_mode": {
    "name": "ipython",
    "version": 3
   },
   "file_extension": ".py",
   "mimetype": "text/x-python",
   "name": "python",
   "nbconvert_exporter": "python",
   "pygments_lexer": "ipython3",
   "version": "3.9.12"
  }
 },
 "nbformat": 4,
 "nbformat_minor": 5
}
