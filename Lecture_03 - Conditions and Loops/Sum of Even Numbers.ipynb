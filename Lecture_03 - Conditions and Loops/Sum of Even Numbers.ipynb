{
 "cells": [
  {
   "cell_type": "code",
   "execution_count": null,
   "id": "2b55f016",
   "metadata": {},
   "outputs": [],
   "source": [
    "# Sum of Even Numbers\n",
    "\n",
    "# Given a number N, print Sum of all even numbers from 1 t0 N.\n",
    "\n",
    "# Input Format:\n",
    "# integer N\n",
    "\n",
    "# Output Format:\n",
    "# Required Sum\n",
    "\n",
    "# Sample Input 1 :\n",
    "# 6\n",
    "# Sample Output 1 :\n",
    "# 12"
   ]
  },
  {
   "cell_type": "code",
   "execution_count": 6,
   "id": "ef136709",
   "metadata": {},
   "outputs": [
    {
     "name": "stdout",
     "output_type": "stream",
     "text": [
      "6\n",
      "12\n"
     ]
    }
   ],
   "source": [
    "n = int(input())\n",
    "\n",
    "sum = 0\n",
    "count = 2\n",
    "\n",
    "while count<=n:\n",
    "    sum = sum + count\n",
    "    count = count + 2\n",
    "print(sum)"
   ]
  }
 ],
 "metadata": {
  "kernelspec": {
   "display_name": "Python 3 (ipykernel)",
   "language": "python",
   "name": "python3"
  },
  "language_info": {
   "codemirror_mode": {
    "name": "ipython",
    "version": 3
   },
   "file_extension": ".py",
   "mimetype": "text/x-python",
   "name": "python",
   "nbconvert_exporter": "python",
   "pygments_lexer": "ipython3",
   "version": "3.9.12"
  }
 },
 "nbformat": 4,
 "nbformat_minor": 5
}
