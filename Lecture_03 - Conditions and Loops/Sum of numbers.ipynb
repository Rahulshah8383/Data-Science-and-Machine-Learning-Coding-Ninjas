{
 "cells": [
  {
   "cell_type": "code",
   "execution_count": null,
   "id": "c4aa16b0",
   "metadata": {},
   "outputs": [],
   "source": [
    "# Sum of n Numbers\n",
    "\n",
    "# Given a number n, find and print the Sum of numbers from 1 t0 n.\n",
    "\n",
    "# Note: Use while loop only.\n",
    "    \n",
    "\n",
    "# Input Format:\n",
    "# integer n\n",
    "\n",
    "# Output Format:\n",
    "# sum\n",
    "\n",
    "# Constaints\n",
    "# 1<=n<=100\n",
    "\n",
    "# Sample Input:\n",
    "# 10\n",
    "# Sample Output:\n",
    "# 55"
   ]
  },
  {
   "cell_type": "code",
   "execution_count": 6,
   "id": "04ce300a",
   "metadata": {},
   "outputs": [
    {
     "name": "stdout",
     "output_type": "stream",
     "text": [
      "10\n",
      "55\n"
     ]
    }
   ],
   "source": [
    "n = int(input())\n",
    "\n",
    "sum = 0\n",
    "\n",
    "while n>0:\n",
    "    sum = sum + n\n",
    "    n = n-1\n",
    "\n",
    "# sum = 0\n",
    "# count = 0;\n",
    "# while count<=n:\n",
    "#     sum = sum + count\n",
    "#     count = count +1\n",
    "print(sum)"
   ]
  }
 ],
 "metadata": {
  "kernelspec": {
   "display_name": "Python 3 (ipykernel)",
   "language": "python",
   "name": "python3"
  },
  "language_info": {
   "codemirror_mode": {
    "name": "ipython",
    "version": 3
   },
   "file_extension": ".py",
   "mimetype": "text/x-python",
   "name": "python",
   "nbconvert_exporter": "python",
   "pygments_lexer": "ipython3",
   "version": "3.9.12"
  }
 },
 "nbformat": 4,
 "nbformat_minor": 5
}
