{
 "cells": [
  {
   "attachments": {},
   "cell_type": "markdown",
   "id": "99f9aa1c",
   "metadata": {},
   "source": [
    "## Palndrome number"
   ]
  },
  {
   "cell_type": "code",
   "execution_count": null,
   "id": "6c915c7a",
   "metadata": {},
   "outputs": [],
   "source": [
    "## palindrome Number\n",
    "\n",
    "# Write a program to determine if given number is palindrome or not. Print true if it is palindrome, flase otherwise.\n",
    "\n",
    "# palindrome are the numbers for which reverse i exactly same as the original one fro eg. 121\n",
    "\n",
    "# Sample input 1:\n",
    "# 121\n",
    "\n",
    "# Sample output 1:\n",
    "# true\n",
    "\n",
    "# Sample input 2:\n",
    "# 1032\n",
    "\n",
    "# Sample output 2:\n",
    "# false"
   ]
  },
  {
   "cell_type": "code",
   "execution_count": 1,
   "id": "4d04afbc",
   "metadata": {},
   "outputs": [
    {
     "name": "stdout",
     "output_type": "stream",
     "text": [
      "121\n",
      "true\n"
     ]
    }
   ],
   "source": [
    "n = int(input())\n",
    "num = n\n",
    "sum=0\n",
    "while n!=0:\n",
    "    k = n%10;\n",
    "    sum = sum*10 + k\n",
    "    n=n//10\n",
    "    \n",
    "if num == sum:\n",
    "    print(\"true\")\n",
    "else:\n",
    "    print(\"false\")"
   ]
  }
 ],
 "metadata": {
  "kernelspec": {
   "display_name": "Python 3 (ipykernel)",
   "language": "python",
   "name": "python3"
  },
  "language_info": {
   "codemirror_mode": {
    "name": "ipython",
    "version": 3
   },
   "file_extension": ".py",
   "mimetype": "text/x-python",
   "name": "python",
   "nbconvert_exporter": "python",
   "pygments_lexer": "ipython3",
   "version": "3.9.12"
  }
 },
 "nbformat": 4,
 "nbformat_minor": 5
}
