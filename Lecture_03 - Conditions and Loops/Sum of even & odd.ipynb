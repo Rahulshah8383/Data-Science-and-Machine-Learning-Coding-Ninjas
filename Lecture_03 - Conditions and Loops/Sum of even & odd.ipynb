{
 "cells": [
  {
   "cell_type": "code",
   "execution_count": null,
   "id": "ba5c4c32",
   "metadata": {},
   "outputs": [],
   "source": [
    "# Sum of even & odd\n",
    "# Write a program to input an integer N and print the sum of all its even digits and sum of all its odd digits separately.\n",
    "# Digits mean numbers, not the places! That is, if the given integer is \"13245\", even digits are 2 & 4 and odd digits are 1, 3 & 5.\n",
    "# Input format :\n",
    "#  Integer N\n",
    "# Output format :\n",
    "# Sum_of_Even_Digits Sum_of_Odd_Digits\n",
    "# (Print first even sum and then odd sum separated by space)\n",
    "# Constraints\n",
    "# 0 <= N <= 10^8\n",
    "# Sample Input 1:\n",
    "# 1234\n",
    "# Sample Output 1:\n",
    "# 6 4\n",
    "# Sample Input 2:\n",
    "# 552245\n",
    "# Sample Output 2:\n",
    "# 8 15\n",
    "# Explanation for Input 2:\n",
    "# For the given input, the even digits are 2, 2 and 4 and if we take the sum of these digits it will come out to be 8(2 + 2 + 4) \n",
    "# and similarly,  if we look at the odd digits, they are, 5, 5 and 5 which makes a sum of 15(5 + 5 + 5). Hence the answer would be, \n",
    "# 8(evenSum) <single space> 15(oddSum)"
   ]
  },
  {
   "cell_type": "code",
   "execution_count": 1,
   "id": "0be4d3a8",
   "metadata": {},
   "outputs": [
    {
     "name": "stdout",
     "output_type": "stream",
     "text": [
      "552245\n",
      "8   15\n"
     ]
    }
   ],
   "source": [
    "n = int(input())\n",
    "\n",
    "even = 0\n",
    "odd = 0\n",
    "\n",
    "while(n>0):\n",
    "    k = n%10\n",
    "    if(k%2==0):\n",
    "        even = even + k\n",
    "    else:\n",
    "        odd = odd + k\n",
    "    n = n//10\n",
    "\n",
    "print(even,\" \",odd)"
   ]
  }
 ],
 "metadata": {
  "kernelspec": {
   "display_name": "Python 3 (ipykernel)",
   "language": "python",
   "name": "python3"
  },
  "language_info": {
   "codemirror_mode": {
    "name": "ipython",
    "version": 3
   },
   "file_extension": ".py",
   "mimetype": "text/x-python",
   "name": "python",
   "nbconvert_exporter": "python",
   "pygments_lexer": "ipython3",
   "version": "3.9.12"
  }
 },
 "nbformat": 4,
 "nbformat_minor": 5
}
