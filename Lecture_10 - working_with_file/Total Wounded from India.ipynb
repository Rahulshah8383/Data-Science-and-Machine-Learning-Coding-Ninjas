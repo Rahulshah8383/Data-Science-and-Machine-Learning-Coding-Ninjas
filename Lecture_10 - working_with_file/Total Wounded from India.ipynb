{
 "cells": [
  {
   "cell_type": "markdown",
   "id": "413245cb",
   "metadata": {},
   "source": [
    "## Total Wounded from India"
   ]
  },
  {
   "cell_type": "code",
   "execution_count": 1,
   "id": "21e3ac5c",
   "metadata": {},
   "outputs": [],
   "source": [
    "# Total Wounded from India\n",
    "\n",
    "# Given file \"year2017.csv\"\n",
    "\n",
    "# It is an open-source database including information on terrorist attacks around the world in 2017. \n",
    "# This dataset includes systematic data on domestic as well as international terrorist incidents that \n",
    "# have occurred during this time period\n",
    "\n",
    "# Problem Statement:\n",
    "# Find and print the total number of wounded people who are from country \"India\".\n",
    "# Print the count as integer value.\n",
    "\n",
    "# Note: There can be missing values in \"Wounded\" column. You should try to print the values of \n",
    "# \"Wounded\" column and observe. Output Format:\n",
    "# Count"
   ]
  },
  {
   "cell_type": "code",
   "execution_count": 2,
   "id": "17b1a6e4",
   "metadata": {},
   "outputs": [
    {
     "name": "stdout",
     "output_type": "stream",
     "text": [
      "702\n"
     ]
    }
   ],
   "source": [
    "import csv\n",
    "\n",
    "with open('year2017.csv') as file_obj:\n",
    "  file_data = csv.reader(file_obj, skipinitialspace = True)\n",
    "\n",
    "  file_list = list(file_data)\n",
    "\n",
    "wounded_india = []\n",
    "\n",
    "for row in file_list[1:]:\n",
    "  val = row[10]\n",
    "  country = row[3]\n",
    "\n",
    "  if val != '' and country == \"India\":\n",
    "    wounded_india.append(float(val))\n",
    "\n",
    "print(int(sum(wounded_india)))"
   ]
  },
  {
   "cell_type": "code",
   "execution_count": null,
   "id": "eddc9ab4",
   "metadata": {},
   "outputs": [],
   "source": []
  }
 ],
 "metadata": {
  "kernelspec": {
   "display_name": "Python 3 (ipykernel)",
   "language": "python",
   "name": "python3"
  },
  "language_info": {
   "codemirror_mode": {
    "name": "ipython",
    "version": 3
   },
   "file_extension": ".py",
   "mimetype": "text/x-python",
   "name": "python",
   "nbconvert_exporter": "python",
   "pygments_lexer": "ipython3",
   "version": "3.9.12"
  }
 },
 "nbformat": 4,
 "nbformat_minor": 5
}
