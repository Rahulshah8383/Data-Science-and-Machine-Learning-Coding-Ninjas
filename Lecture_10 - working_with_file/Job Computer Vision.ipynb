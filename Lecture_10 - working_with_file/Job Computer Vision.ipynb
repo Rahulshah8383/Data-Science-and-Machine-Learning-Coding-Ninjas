{
 "cells": [
  {
   "attachments": {},
   "cell_type": "markdown",
   "id": "bd06b251",
   "metadata": {},
   "source": [
    "## Job Computer Vision"
   ]
  },
  {
   "cell_type": "code",
   "execution_count": 3,
   "id": "25a43563",
   "metadata": {},
   "outputs": [],
   "source": [
    "# Job Location\n",
    "\n",
    "# Given File 'amazonjobsdataset.csv'\n",
    "\n",
    "# It is a dataset including inormation on amazon job opening around the world from June 2011 to March 2018. This dataset\n",
    "# is collected using Selenium and BeautifulSoup by scraping all of the jobs for Amazon job site.\n",
    "\n",
    "# Problem Statement:\n",
    "# Find number of job openings in Bangalore, IN and in Seattle,US?\n",
    "# Print the Number of Job opening in Bangalore and Seattle as Integer value.\n",
    "\n",
    "# Output Format:\n",
    "# CountBangalore CountSeattle"
   ]
  },
  {
   "cell_type": "code",
   "execution_count": 2,
   "id": "863875ba",
   "metadata": {},
   "outputs": [
    {
     "name": "stdout",
     "output_type": "stream",
     "text": [
      "14\n"
     ]
    }
   ],
   "source": [
    "import csv\n",
    "with open(\"amazon_jobs_dataset.csv\", encoding=\"utf8\") as file_obj:\n",
    "    file_data = csv.DictReader(file_obj, skipinitialspace=True)\n",
    "    file_list = list(file_data)\n",
    "    \n",
    "    c=\"Computer Vision\"\n",
    "    \n",
    "    Computer_Vision_count=0;\n",
    "    \n",
    "    for row in file_list:\n",
    "        if c in row[\"Title\"]:\n",
    "            Computer_Vision_count +=1\n",
    "    print(Computer_Vision_count)"
   ]
  }
 ],
 "metadata": {
  "kernelspec": {
   "display_name": "Python 3 (ipykernel)",
   "language": "python",
   "name": "python3"
  },
  "language_info": {
   "codemirror_mode": {
    "name": "ipython",
    "version": 3
   },
   "file_extension": ".py",
   "mimetype": "text/x-python",
   "name": "python",
   "nbconvert_exporter": "python",
   "pygments_lexer": "ipython3",
   "version": "3.9.12"
  }
 },
 "nbformat": 4,
 "nbformat_minor": 5
}
