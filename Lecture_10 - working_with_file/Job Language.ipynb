{
 "cells": [
  {
   "attachments": {},
   "cell_type": "markdown",
   "id": "053fee96",
   "metadata": {},
   "source": [
    "## Job Language"
   ]
  },
  {
   "cell_type": "code",
   "execution_count": 1,
   "id": "6221617d",
   "metadata": {},
   "outputs": [],
   "source": [
    "# Job Language\n",
    "# Given File 'amazonjobsdataset.csv'\n",
    "\n",
    "# It is a dataset including information on amazon job opening around the world from June 2011 to March 2018. This dataset is collected using Selenium and BeautifulSoup by scraping all of the jobs for Amazon job site.\n",
    "\n",
    "# Problem Statement:\n",
    "# Among Java, C++ and Python, which of the language has more job openings in India for Bachelor Degree Holder?\n",
    "# Print the Language(i.e Java, C++,Python) and number of job opening as integer value.\n",
    "\n",
    "# Note: Here we will use the BASIC\n",
    "# QUALIFICATIONS feature to find out whether bachelor degree for Job is required or not. Keywords that can be used are 'Bachelor', 'BS' and 'BA' and we will use the BASIC QUALIFICATIONS feature to find out whether Language is required for the job or not.Keywords that is used for language searching are 'Java','C++' or 'Python'. (There case should not be changed).\n",
    "\n",
    "# Output Format:\n",
    "    \n",
    "# Language Count"
   ]
  },
  {
   "cell_type": "code",
   "execution_count": 1,
   "id": "f6a90351",
   "metadata": {},
   "outputs": [
    {
     "name": "stdout",
     "output_type": "stream",
     "text": [
      "Java 103\n"
     ]
    }
   ],
   "source": [
    "import csv\n",
    "country_basic_qualifications=[]\n",
    "with open(\"amazon_jobs_dataset.csv\",'r',encoding='utf-8') as csvFile:\n",
    "    reader=csv.DictReader(csvFile)\n",
    "    for row in reader:\n",
    "        country_basic_qualifications.append([row['location'],row['BASIC QUALIFICATIONS']])\n",
    "## Shortlist the no of job opening for India\n",
    "def getCountryJobOpening(arr,country_code):\n",
    "    arrlist=[]\n",
    "    for i in arr:\n",
    "        if i[0].split(',')[0]==country_code:\n",
    "            arrlist.append(i[1])\n",
    "    return arrlist\n",
    "india_list=getCountryJobOpening(country_basic_qualifications,'IN')\n",
    "## Now find the job for bachelor degree holder\n",
    "def getJobBachelorList(arr):\n",
    "    arrlist=[]\n",
    "    for i in arr:\n",
    "        if 'Bachelor' in i or 'BS' in i or 'BA' in i:\n",
    "            arrlist.append(i)\n",
    "    return arrlist\n",
    "india_bachelor_list=getJobBachelorList(india_list)\n",
    "## Get specificed Language\n",
    "def getTheDeveloper(arr,language):\n",
    "    arrlist=[]\n",
    "    for i in arr:\n",
    "        if language in i:\n",
    "            arrlist.append(i)\n",
    "    return arrlist\n",
    "java=[len(getTheDeveloper(india_bachelor_list,'Java')),'Java']\n",
    "Cplus=[len(getTheDeveloper(india_bachelor_list,'C++')),'C++']\n",
    "py=[len(getTheDeveloper(india_bachelor_list,'Python')),'Python']\n",
    "maximum=max(java,Cplus,py)\n",
    "print(maximum[1],maximum[0])"
   ]
  }
 ],
 "metadata": {
  "kernelspec": {
   "display_name": "Python 3 (ipykernel)",
   "language": "python",
   "name": "python3"
  },
  "language_info": {
   "codemirror_mode": {
    "name": "ipython",
    "version": 3
   },
   "file_extension": ".py",
   "mimetype": "text/x-python",
   "name": "python",
   "nbconvert_exporter": "python",
   "pygments_lexer": "ipython3",
   "version": "3.9.12"
  }
 },
 "nbformat": 4,
 "nbformat_minor": 5
}
