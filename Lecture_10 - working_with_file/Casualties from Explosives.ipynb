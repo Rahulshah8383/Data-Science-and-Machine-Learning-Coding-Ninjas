{
 "cells": [
  {
   "cell_type": "markdown",
   "id": "87220145",
   "metadata": {},
   "source": [
    "## Casualties from Explosives"
   ]
  },
  {
   "cell_type": "code",
   "execution_count": 1,
   "id": "9c22c540",
   "metadata": {},
   "outputs": [],
   "source": [
    "# Casualties from Explosives\n",
    "\n",
    "# Given file \"year2017.csv\"\n",
    "\n",
    "# It is an open-source database including information on terrorist attacks around the world in 2017. This dataset includes systematic data on domestic as well as\n",
    "# international terrorist incidents that have occurred during this time period\n",
    "\n",
    "# Problem Statement:\n",
    "# Find and print total number of casualties with \"Explosives\" Weapon_type.\n",
    "# Print the count as integer value.\n",
    "\n",
    "# Note: There can be missing values in \"casualties\" column and there are some initial\n",
    "# spaces present in every value. You should try to print the values and observe.\n",
    "\n",
    "# Output Format:\n",
    "# Count"
   ]
  },
  {
   "cell_type": "code",
   "execution_count": 2,
   "id": "060835b2",
   "metadata": {},
   "outputs": [
    {
     "name": "stdout",
     "output_type": "stream",
     "text": [
      "29280\n"
     ]
    }
   ],
   "source": [
    "# by using reader\n",
    "import csv\n",
    "\n",
    "with open('year2017.csv') as file_obj:\n",
    "  file_data = csv.reader(file_obj, skipinitialspace = True)\n",
    "\n",
    "  file_list = list(file_data)\n",
    "\n",
    "Casualities = []\n",
    "\n",
    "for row in file_list:\n",
    "  val = row[15] # casualities\n",
    "  weapon = row[14] # Weapon_type\n",
    "\n",
    "  if val != '' and weapon == 'Explosives':\n",
    "    Casualities.append(float(val))\n",
    "\n",
    "print(int(sum(Casualities)))"
   ]
  },
  {
   "cell_type": "code",
   "execution_count": 3,
   "id": "1620b3ec",
   "metadata": {},
   "outputs": [
    {
     "name": "stdout",
     "output_type": "stream",
     "text": [
      "29280\n"
     ]
    }
   ],
   "source": [
    "# by using DictReader\n",
    "import csv\n",
    "\n",
    "with open('year2017.csv') as file_obj:\n",
    "  file_data = csv.DictReader(file_obj, skipinitialspace = True)\n",
    "\n",
    "  file_list = list(file_data)\n",
    "\n",
    "Casualities = []\n",
    "\n",
    "for row in file_list:\n",
    "  val = row['casualities']\n",
    "  weapon = row['Weapon_type']\n",
    "\n",
    "  if val != '' and weapon == 'Explosives':\n",
    "    Casualities.append(float(val))\n",
    "\n",
    "print(int(sum(Casualities)))"
   ]
  }
 ],
 "metadata": {
  "kernelspec": {
   "display_name": "Python 3 (ipykernel)",
   "language": "python",
   "name": "python3"
  },
  "language_info": {
   "codemirror_mode": {
    "name": "ipython",
    "version": 3
   },
   "file_extension": ".py",
   "mimetype": "text/x-python",
   "name": "python",
   "nbconvert_exporter": "python",
   "pygments_lexer": "ipython3",
   "version": "3.9.12"
  }
 },
 "nbformat": 4,
 "nbformat_minor": 5
}
