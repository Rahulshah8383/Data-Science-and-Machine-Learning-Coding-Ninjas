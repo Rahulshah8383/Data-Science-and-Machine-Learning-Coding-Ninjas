{
 "cells": [
  {
   "cell_type": "markdown",
   "id": "b084514c",
   "metadata": {},
   "source": [
    "## Total Wounded People"
   ]
  },
  {
   "cell_type": "code",
   "execution_count": 1,
   "id": "94ddf03b",
   "metadata": {},
   "outputs": [],
   "source": [
    "# Total Wounded People\n",
    "\n",
    "# Given file \"year2017.csv\"\n",
    "\n",
    "# It is an open-source database including information on terrorist attacks around the world in 2017. \n",
    "# This dataset includes systematic data on domestic as well as international terrorist incidents \n",
    "# that have occurred during this time period.\n",
    "\n",
    "# Problem Statement:\n",
    "# Find and print the total number of wounded people.\n",
    "# Print the count as integer value.\n",
    "\n",
    "# Note: There can be missing values in \"Wounded\" column. You should try to print the values of \"Wounded\" \n",
    "# column and observe. \n",
    "\n",
    "# Output Format: \n",
    "# Count"
   ]
  },
  {
   "cell_type": "code",
   "execution_count": 3,
   "id": "8f067c87",
   "metadata": {},
   "outputs": [
    {
     "name": "stdout",
     "output_type": "stream",
     "text": [
      "24927\n"
     ]
    }
   ],
   "source": [
    "import csv\n",
    "\n",
    "with open('year2017.csv') as file_obj:\n",
    "  file_data = csv.reader(file_obj, skipinitialspace = True)\n",
    "\n",
    "  file_list = list(file_data)\n",
    "\n",
    "wounded = []\n",
    "\n",
    "for row in file_list[1:]:\n",
    "  val = row[10]\n",
    "\n",
    "  if val != '':\n",
    "    wounded.append(float(val))\n",
    "\n",
    "print(int(sum(wounded)))"
   ]
  }
 ],
 "metadata": {
  "kernelspec": {
   "display_name": "Python 3 (ipykernel)",
   "language": "python",
   "name": "python3"
  },
  "language_info": {
   "codemirror_mode": {
    "name": "ipython",
    "version": 3
   },
   "file_extension": ".py",
   "mimetype": "text/x-python",
   "name": "python",
   "nbconvert_exporter": "python",
   "pygments_lexer": "ipython3",
   "version": "3.9.12"
  }
 },
 "nbformat": 4,
 "nbformat_minor": 5
}
