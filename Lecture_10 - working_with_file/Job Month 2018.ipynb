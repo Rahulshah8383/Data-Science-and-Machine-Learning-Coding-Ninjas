{
 "cells": [
  {
   "attachments": {},
   "cell_type": "markdown",
   "id": "6c5325d9",
   "metadata": {},
   "source": [
    "## Job Month 2018"
   ]
  },
  {
   "cell_type": "code",
   "execution_count": null,
   "id": "0a80f6ad",
   "metadata": {},
   "outputs": [],
   "source": [
    "# Job Month 2018\n",
    "\n",
    "# Given File 'amazonjobsdataset.csv'\n",
    "\n",
    "# It is a dataset including information on amazon job opening around the world from June 2011 to March 2018. This dataset is collected using Selenium and BeautifulSoup by scraping all of the jobs for Amazon job site.\n",
    "\n",
    "# Problem Statement:\n",
    "# Find the month having most job openings in Year 2018 ?\n",
    "# Print the month (Month Name i.e January, February, March) and Number of job opening as Integer Value\n",
    "\n",
    "# Output Format:\n",
    "# Month Name Count"
   ]
  },
  {
   "cell_type": "code",
   "execution_count": 1,
   "id": "40ab2c32",
   "metadata": {},
   "outputs": [
    {
     "name": "stdout",
     "output_type": "stream",
     "text": [
      "January  907\n"
     ]
    }
   ],
   "source": [
    "import csv\n",
    "with open(\"amazon_jobs_dataset.csv\",encoding =\"utf8\") as file_obj:\n",
    "    file_data =  csv.DictReader(file_obj, skipinitialspace = True)\n",
    "    file_list = list(file_data)\n",
    "    \n",
    "b = []\n",
    "c = []\n",
    "d = []\n",
    "e = []\n",
    "dis = {}\n",
    "n = []\n",
    "for row in file_list:\n",
    "    b.append(row['Posting_date'])\n",
    "for i in range(len(b)):\n",
    "    a = b[i].split(\",\")\n",
    "    c.append(a)\n",
    "for i in range(len(c)):\n",
    "    if (c[i][1]) == ' 2018':\n",
    "        d.append(c[i][0])\n",
    "for k in range(len(d)):\n",
    "    j = d[k].split()\n",
    "    e.append(j)\n",
    "for m in e:\n",
    "    n.append(m[0])\n",
    "for l in n[::-1]:\n",
    "    dis[l] = dis.get(l,0)+1\n",
    "mac = max(dis.values())\n",
    "for i in dis:\n",
    "    if mac == dis[i]:\n",
    "        print(i,\"\",int(dis[i]))"
   ]
  }
 ],
 "metadata": {
  "kernelspec": {
   "display_name": "Python 3 (ipykernel)",
   "language": "python",
   "name": "python3"
  },
  "language_info": {
   "codemirror_mode": {
    "name": "ipython",
    "version": 3
   },
   "file_extension": ".py",
   "mimetype": "text/x-python",
   "name": "python",
   "nbconvert_exporter": "python",
   "pygments_lexer": "ipython3",
   "version": "3.9.12"
  }
 },
 "nbformat": 4,
 "nbformat_minor": 5
}
