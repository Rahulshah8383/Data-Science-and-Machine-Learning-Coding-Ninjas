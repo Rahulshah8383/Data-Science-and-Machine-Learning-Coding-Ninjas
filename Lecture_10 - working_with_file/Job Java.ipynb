{
 "cells": [
  {
   "attachments": {},
   "cell_type": "markdown",
   "id": "2b89c1c0",
   "metadata": {},
   "source": [
    "## Job Java"
   ]
  },
  {
   "cell_type": "code",
   "execution_count": 3,
   "id": "8d92e41f",
   "metadata": {},
   "outputs": [],
   "source": [
    "#  Job Java\n",
    "# Given File 'amazonjobsdataset.csv'\n",
    "\n",
    "# It is a dataset including information on amazon job opening around the world from June 2011 to March 2018. This dataset is collected using Selenium and BeautifulSoup by scraping all of the jobs for Amazon job site.\n",
    "\n",
    "# Problem Statement:\n",
    "# Find the country does Amazon need the most number of Java Developer?\n",
    "# Print the Country (Country Shortcut as given in Dataset) and number of job opening as integer value\n",
    "\n",
    "# Note :Here we will use the BASIC QUALIFICATIONS feature to find out whether Java is required for the job or not.Keyword is used is 'Java'. (Here case should not be changed). \n",
    "# Output Format:\n",
    "\n",
    "# Country Count"
   ]
  },
  {
   "cell_type": "code",
   "execution_count": 1,
   "id": "513d9044",
   "metadata": {},
   "outputs": [
    {
     "name": "stdout",
     "output_type": "stream",
     "text": [
      "US 2009\n"
     ]
    }
   ],
   "source": [
    "import csv\n",
    "country_basic_qualifications=[]\n",
    "with open(\"amazon_jobs_dataset.csv\",'r',encoding='utf-8') as csvFile:\n",
    "    reader=csv.DictReader(csvFile)\n",
    "    for row in reader:\n",
    "        country_basic_qualifications.append([row['location'],row['BASIC QUALIFICATIONS']])\n",
    "## Get Java Developer from the different country\n",
    "def getTheJavaDeveloper(arr):\n",
    "    arrlist=[]\n",
    "    for i in arr:\n",
    "        if 'Java' in i[1]:\n",
    "            arrlist.append(i[0].split(',')[0])\n",
    "    return arrlist\n",
    "java_developer=getTheJavaDeveloper(country_basic_qualifications)\n",
    "def createDictionary(arr):\n",
    "    dictionary={i:0 for i in set(arr)}\n",
    "    for i in arr:\n",
    "        dictionary[i]=dictionary.get(i)+1\n",
    "    return dictionary\n",
    "def convertDictToList(dictionary):\n",
    "    arrlist=[]\n",
    "    for i in dictionary:\n",
    "        arrlist.append([dictionary.get(i),i])\n",
    "    arrlist.sort(reverse=True)\n",
    "    return arrlist\n",
    "java_dict=createDictionary(java_developer)\n",
    "java_list=convertDictToList(java_dict)\n",
    "print(java_list[0][1],java_list[0][0])"
   ]
  }
 ],
 "metadata": {
  "kernelspec": {
   "display_name": "Python 3 (ipykernel)",
   "language": "python",
   "name": "python3"
  },
  "language_info": {
   "codemirror_mode": {
    "name": "ipython",
    "version": 3
   },
   "file_extension": ".py",
   "mimetype": "text/x-python",
   "name": "python",
   "nbconvert_exporter": "python",
   "pygments_lexer": "ipython3",
   "version": "3.9.12"
  }
 },
 "nbformat": 4,
 "nbformat_minor": 5
}
