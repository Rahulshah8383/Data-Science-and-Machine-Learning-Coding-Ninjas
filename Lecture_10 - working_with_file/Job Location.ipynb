{
 "cells": [
  {
   "attachments": {},
   "cell_type": "markdown",
   "id": "0dee306e",
   "metadata": {},
   "source": [
    "## Job Location"
   ]
  },
  {
   "cell_type": "code",
   "execution_count": 2,
   "id": "ea8fe871",
   "metadata": {},
   "outputs": [],
   "source": [
    "# 1) Job Location\n",
    "\n",
    "# Given File 'amazonjobsdataset.csv'\n",
    "\n",
    "# It is a dataset including inormation on amazon job opening around the world from June 2011 to March 2018. This dataset\n",
    "# is collected using Selenium and BeautifulSoup by scraping all of the jobs for Amazon job site.\n",
    "\n",
    "# Problem Statement:\n",
    "\n",
    "# Find number of job openings in Bangalore, IN and in Seattle,US?\n",
    "\n",
    "# Print the Number of Job opening in Bangalore and Seattle as Integer value.\n",
    "\n",
    "# Output Format:\n",
    "\n",
    "# CountBangalore CountSeattle"
   ]
  },
  {
   "cell_type": "code",
   "execution_count": 2,
   "id": "2f3f1b22",
   "metadata": {},
   "outputs": [
    {
     "name": "stdout",
     "output_type": "stream",
     "text": [
      "66 1856\n"
     ]
    }
   ],
   "source": [
    "import csv\n",
    "with open(\"amazon_jobs_dataset.csv\",encoding=\"utf8\") as file_obj:\n",
    "    file_data = csv.DictReader(file_obj, skipinitialspace=True)\n",
    "    file_list = list(file_data)\n",
    "    \n",
    "    b=\"IN, KA, Bangalore\"\n",
    "    s=\"US, WA, Seattle \"\n",
    "    \n",
    "    Bangalore_count=0\n",
    "    Seattle_count=0\n",
    "\n",
    "    for row in file_list:\n",
    "        if b in row[\"location\"]:\n",
    "            Bangalore_count +=1\n",
    "        if s in row[\"location\"]:\n",
    "            Seattle_count +=1\n",
    "print(Bangalore_count,Seattle_count)"
   ]
  }
 ],
 "metadata": {
  "kernelspec": {
   "display_name": "Python 3 (ipykernel)",
   "language": "python",
   "name": "python3"
  },
  "language_info": {
   "codemirror_mode": {
    "name": "ipython",
    "version": 3
   },
   "file_extension": ".py",
   "mimetype": "text/x-python",
   "name": "python",
   "nbconvert_exporter": "python",
   "pygments_lexer": "ipython3",
   "version": "3.9.12"
  }
 },
 "nbformat": 4,
 "nbformat_minor": 5
}
