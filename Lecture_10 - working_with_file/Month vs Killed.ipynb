{
 "cells": [
  {
   "cell_type": "markdown",
   "id": "0d407184",
   "metadata": {},
   "source": [
    "## Month vs Killed"
   ]
  },
  {
   "cell_type": "code",
   "execution_count": 1,
   "id": "9960ee78",
   "metadata": {},
   "outputs": [],
   "source": [
    "# Month vs Killed\n",
    "\n",
    "# Given file \"year2017.csv\"\n",
    "\n",
    "# It is an open-source database including information on terrorist attacks around the world in 2017. This dataset includes systematic data on domestic as well as\n",
    "# international terrorist incidents that have occurred during this time period\n",
    "\n",
    "# Problem Statement:\n",
    "# Find the total number people killed in each month.\n",
    "# Print the month and count of killed people as integer value.\n",
    "\n",
    "# Output Format:\n",
    "# Month 1 Count_1\n",
    "# Month 2 Count_2\n",
    "# Month 3 Count_3\n",
    "# and so on"
   ]
  },
  {
   "cell_type": "code",
   "execution_count": 2,
   "id": "40d71af2",
   "metadata": {},
   "outputs": [],
   "source": [
    "import csv\n",
    "\n",
    "with open('year2017.csv') as file_obj:\n",
    "  file_data = csv.DictReader(file_obj, skipinitialspace = True)\n",
    "\n",
    "  file_list = list(file_data)\n",
    "\n",
    "Month_killed = {}\n",
    "\n",
    "for row in file_list[1:]:\n",
    "  key = row['Month']\n",
    "  value = row['Killed']\n",
    "\n",
    "  if value != '':\n",
    "    value = int(float(value))\n",
    "  else:\n",
    "    value = 0\n",
    "\n",
    "  if key in Month_killed:\n",
    "    Month_killed[key] += value\n",
    "  else:\n",
    "    Month_killed[key] = value"
   ]
  },
  {
   "cell_type": "code",
   "execution_count": 3,
   "id": "c4e767c1",
   "metadata": {},
   "outputs": [
    {
     "data": {
      "text/plain": [
       "{'1': 2275,\n",
       " '2': 2027,\n",
       " '3': 2463,\n",
       " '4': 2142,\n",
       " '5': 2936,\n",
       " '6': 2506,\n",
       " '7': 2228,\n",
       " '8': 2145,\n",
       " '9': 1764,\n",
       " '10': 2580,\n",
       " '11': 2014,\n",
       " '12': 1365}"
      ]
     },
     "execution_count": 3,
     "metadata": {},
     "output_type": "execute_result"
    }
   ],
   "source": [
    "Month_killed"
   ]
  },
  {
   "cell_type": "code",
   "execution_count": 4,
   "id": "e4d36b96",
   "metadata": {},
   "outputs": [
    {
     "name": "stdout",
     "output_type": "stream",
     "text": [
      "1 2275\n",
      "2 2027\n",
      "3 2463\n",
      "4 2142\n",
      "5 2936\n",
      "6 2506\n",
      "7 2228\n",
      "8 2145\n",
      "9 1764\n",
      "10 2580\n",
      "11 2014\n",
      "12 1365\n"
     ]
    }
   ],
   "source": [
    "for k,v in Month_killed.items():\n",
    "    print(k,v)"
   ]
  }
 ],
 "metadata": {
  "kernelspec": {
   "display_name": "Python 3 (ipykernel)",
   "language": "python",
   "name": "python3"
  },
  "language_info": {
   "codemirror_mode": {
    "name": "ipython",
    "version": 3
   },
   "file_extension": ".py",
   "mimetype": "text/x-python",
   "name": "python",
   "nbconvert_exporter": "python",
   "pygments_lexer": "ipython3",
   "version": "3.9.12"
  }
 },
 "nbformat": 4,
 "nbformat_minor": 5
}
