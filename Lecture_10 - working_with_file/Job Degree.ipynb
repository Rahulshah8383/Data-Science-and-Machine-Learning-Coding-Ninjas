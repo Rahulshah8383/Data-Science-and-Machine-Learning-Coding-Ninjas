{
 "cells": [
  {
   "attachments": {},
   "cell_type": "markdown",
   "id": "6e410123",
   "metadata": {},
   "source": [
    "## Job Degree"
   ]
  },
  {
   "cell_type": "code",
   "execution_count": 2,
   "id": "375c71a3",
   "metadata": {},
   "outputs": [],
   "source": [
    "# Job Degree\n",
    "# Given File 'amazonjobsdataset.csv'\n",
    "\n",
    "# It is a dataset including information on amazon job opening around the world from June 2011 to March 2018. This dataset is collected using Selenium and BeautifulSoup by scraping all of the jobs for Amazon job site.\n",
    "\n",
    "# Problem Statement:\n",
    "# Find the number of job openings are present if applicant have Bachelor degree?\n",
    "# Print the count as Integer value\n",
    "\n",
    "# Note: Here we will use the BASIC\n",
    "# QUALIFICATIONS feature to find out whether bachelor degree for Job is required or not. Keywords that can be used are 'Bachelor', 'BS' and 'BA'.\n",
    "\n",
    "# Output Format:\n",
    "# Count"
   ]
  },
  {
   "cell_type": "code",
   "execution_count": 1,
   "id": "cf0c659b",
   "metadata": {},
   "outputs": [
    {
     "name": "stdout",
     "output_type": "stream",
     "text": [
      "2961\n"
     ]
    }
   ],
   "source": [
    "import csv\n",
    "with open(\"amazon_jobs_dataset.csv\",encoding =\"utf8\") as file_obj:\n",
    "    file_data = csv.DictReader(file_obj,skipinitialspace=True)\n",
    "    file_list = list(file_data)\n",
    "    \n",
    "count = 0\n",
    "for row in file_list:\n",
    "    if \"Bachelor\" in row[\"BASIC QUALIFICATIONS\"] or \"BA\" in row[\"BASIC QUALIFICATIONS\"] or \"BS\" in row[\"BASIC QUALIFICATIONS\"]:\n",
    "        count = count + 1\n",
    "print(count)"
   ]
  }
 ],
 "metadata": {
  "kernelspec": {
   "display_name": "Python 3 (ipykernel)",
   "language": "python",
   "name": "python3"
  },
  "language_info": {
   "codemirror_mode": {
    "name": "ipython",
    "version": 3
   },
   "file_extension": ".py",
   "mimetype": "text/x-python",
   "name": "python",
   "nbconvert_exporter": "python",
   "pygments_lexer": "ipython3",
   "version": "3.9.12"
  }
 },
 "nbformat": 4,
 "nbformat_minor": 5
}
