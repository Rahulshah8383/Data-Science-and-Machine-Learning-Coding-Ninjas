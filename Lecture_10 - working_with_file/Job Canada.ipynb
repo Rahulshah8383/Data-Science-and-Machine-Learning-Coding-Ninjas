{
 "cells": [
  {
   "attachments": {},
   "cell_type": "markdown",
   "id": "9a42b2f2",
   "metadata": {},
   "source": [
    "## Job Canada"
   ]
  },
  {
   "cell_type": "code",
   "execution_count": 1,
   "id": "a0d2e4b0",
   "metadata": {},
   "outputs": [],
   "source": [
    "# Job Canada\n",
    "# Given File 'amazonjobsdataset.csv'\n",
    "\n",
    "# It is a dataset including information on amazon job opening around the world from June 2011 to March 2018. This dataset is collected using Selenium and BeautifulSoup by scraping all of the jobs for Amazon job site.\n",
    "\n",
    "# Problem Statement:\n",
    "# Find the number of job openings in Canada?\n",
    "# Print the count as the Integer Value\n",
    "\n",
    "# Note: Here you should analyse the country code in location feature. (you can use dictionary for analyse part).\n",
    "\n",
    "# Output Format:\n",
    "# Count"
   ]
  },
  {
   "cell_type": "code",
   "execution_count": 1,
   "id": "02c05033",
   "metadata": {},
   "outputs": [
    {
     "name": "stdout",
     "output_type": "stream",
     "text": [
      "156\n"
     ]
    }
   ],
   "source": [
    "import csv\n",
    "with open(\"amazon_jobs_dataset.csv\",encoding =\"utf8\") as file_obj:\n",
    "    file_data =  csv.DictReader(file_obj, skipinitialspace = True)\n",
    "    file_list = list(file_data)\n",
    "    \n",
    "b = []\n",
    "c = []\n",
    "count = 0\n",
    "for row in file_list:\n",
    "    b.append(row[\"location\"])\n",
    "\n",
    "for i in range(len(b)):\n",
    "    a = b[i].split(\",\")\n",
    "    c.append(a)\n",
    "\n",
    "for j in range(len(c)):\n",
    "    if c[j][0] == \"CA\":\n",
    "        count += 1\n",
    "\n",
    "print(count)"
   ]
  }
 ],
 "metadata": {
  "kernelspec": {
   "display_name": "Python 3 (ipykernel)",
   "language": "python",
   "name": "python3"
  },
  "language_info": {
   "codemirror_mode": {
    "name": "ipython",
    "version": 3
   },
   "file_extension": ".py",
   "mimetype": "text/x-python",
   "name": "python",
   "nbconvert_exporter": "python",
   "pygments_lexer": "ipython3",
   "version": "3.9.12"
  }
 },
 "nbformat": 4,
 "nbformat_minor": 5
}
