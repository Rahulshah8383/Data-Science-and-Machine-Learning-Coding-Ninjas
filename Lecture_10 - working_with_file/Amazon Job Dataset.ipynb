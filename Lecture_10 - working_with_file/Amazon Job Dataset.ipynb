{
 "cells": [
  {
   "cell_type": "markdown",
   "id": "464419c0",
   "metadata": {},
   "source": [
    "## Amazon Job Dataset"
   ]
  },
  {
   "cell_type": "code",
   "execution_count": 1,
   "id": "97b3534b",
   "metadata": {},
   "outputs": [],
   "source": [
    "# Amazon Job Dataset\n",
    "\n",
    "# Amazon Job Dataset\n",
    "\n",
    "# For this assignment, we'll be using \"Amazon Job Dataset\" which is collected by scraping https://amazon.jobs.\n",
    "\n",
    "# Different fields of dataset and what they represent\n",
    "\n",
    "# Title: The title of the job\n",
    "# Location: Location of the job\n",
    "# Posting date: Posting date of the job Description: Overall description for the job\n",
    "# Basic Qualifications: Minimum Qualifications for the job\n",
    "# Preferred Qualifications: Preferred Qualifications for the job\n",
    "\n",
    "# By analysing this dataset, we can find out many interesting insights such as -\n",
    "\n",
    "# number of job openings in a specific location \n",
    "# jobs available for a specific qualification \n",
    "# Most popular skillset\n",
    "# and many other things"
   ]
  }
 ],
 "metadata": {
  "kernelspec": {
   "display_name": "Python 3 (ipykernel)",
   "language": "python",
   "name": "python3"
  },
  "language_info": {
   "codemirror_mode": {
    "name": "ipython",
    "version": 3
   },
   "file_extension": ".py",
   "mimetype": "text/x-python",
   "name": "python",
   "nbconvert_exporter": "python",
   "pygments_lexer": "ipython3",
   "version": "3.9.12"
  }
 },
 "nbformat": 4,
 "nbformat_minor": 5
}
