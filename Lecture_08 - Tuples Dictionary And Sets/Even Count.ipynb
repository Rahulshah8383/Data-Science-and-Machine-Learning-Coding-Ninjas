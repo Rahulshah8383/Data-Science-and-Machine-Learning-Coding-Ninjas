{
 "cells": [
  {
   "cell_type": "code",
   "execution_count": 1,
   "id": "4f799d6b",
   "metadata": {},
   "outputs": [],
   "source": [
    "# Even Count\n",
    "# You are provided with an integer array where each number is present either odd number of times or even number of times. You have to find and return the number which is present even number of times.\n",
    "# If multiple numbers are present even number of times, then return that number which occurs first among these numbers in the given array. If no such number exists, then return -1.\n",
    "# Note : You may take extra space but solve this problem in O(n) time.\n",
    "# Input Format:\n",
    "# Line 1 : An Integer N i.e. size of array \n",
    "# Line 2 : N integers which are elements of the array, separated by spaces\n",
    "# Output Format:\n",
    "# Array element occurring even no. of times\n",
    "# Constraints :\n",
    "# 1 <= N <= 10^5\n",
    "# Sample Input:\n",
    "# 6\n",
    "# 2 5 3 5 3 4 \n",
    "# Sample Output:\n",
    "# 5"
   ]
  },
  {
   "cell_type": "code",
   "execution_count": 3,
   "id": "cff26d48",
   "metadata": {},
   "outputs": [
    {
     "name": "stdout",
     "output_type": "stream",
     "text": [
      "5\n",
      "2 5 3 5 3 4 \n",
      "5\n"
     ]
    }
   ],
   "source": [
    "def evenCount(arr):\n",
    "    map1 = {}\n",
    "    for i in range(0,n):\n",
    "        if arr[i] not in map1:\n",
    "            map1[arr[i]] = False\n",
    "        else:\n",
    "            map1[arr[i]] = not map1[arr[i]]\n",
    "            \n",
    "    for j in range(0,n):\n",
    "        if map1[arr[j]] == True:\n",
    "            break\n",
    "    return arr[j]\n",
    "\n",
    "# Main\n",
    "n=int(input())\n",
    "arr=list(int(i) for i in input().strip().split(' '))\n",
    "print(evenCount(arr))"
   ]
  }
 ],
 "metadata": {
  "kernelspec": {
   "display_name": "Python 3 (ipykernel)",
   "language": "python",
   "name": "python3"
  },
  "language_info": {
   "codemirror_mode": {
    "name": "ipython",
    "version": 3
   },
   "file_extension": ".py",
   "mimetype": "text/x-python",
   "name": "python",
   "nbconvert_exporter": "python",
   "pygments_lexer": "ipython3",
   "version": "3.9.12"
  }
 },
 "nbformat": 4,
 "nbformat_minor": 5
}
