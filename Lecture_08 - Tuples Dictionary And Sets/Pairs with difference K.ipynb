{
 "cells": [
  {
   "cell_type": "code",
   "execution_count": 1,
   "id": "c4e5c7e9",
   "metadata": {},
   "outputs": [],
   "source": [
    "# Pairs with difference K\n",
    "# You are given with an array of integers and an integer K. You have to find and print the count of all such pairs which have difference K.\n",
    "# Note: Take absolute difference between the elements of the array.\n",
    "# Input Format:\n",
    "# The first line of input contains an integer, that denotes the value of the size of the array. Let us denote it with the symbol n.\n",
    "# The following line contains n space separated integers, that denote the value of the elements of the array.\n",
    "# The following line contains an integer, that denotes the value of K.\n",
    "# Output format :\n",
    "# The first and only line of output contains count of all such pairs which have an absolute difference of K. \n",
    "# Constraints :\n",
    "# 0 <= n <= 10^4\n",
    "# Time Limit: 1 sec\n",
    "# Sample Input 1 :\n",
    "# 4 \n",
    "# 5 1 2 4\n",
    "# 3\n",
    "# Sample Output 1 :\n",
    "# 2\n",
    "# Sample Input 2 :\n",
    "# 4\n",
    "# 4 4 4 4 \n",
    "# 0\n",
    "# Sample Output 2 :\n",
    "# 6"
   ]
  },
  {
   "cell_type": "code",
   "execution_count": 2,
   "id": "0cc766c8",
   "metadata": {},
   "outputs": [
    {
     "name": "stdout",
     "output_type": "stream",
     "text": [
      "4\n",
      "4 4 4 4\n",
      "0\n",
      "4 4\n",
      "4 4\n",
      "4 4\n",
      "4 4\n",
      "4 4\n",
      "4 4\n"
     ]
    }
   ],
   "source": [
    "import math as m\n",
    "def printPairDiffK(l, k):\n",
    "    map={}\n",
    "    for i in l:\n",
    "        if i in map.keys():\n",
    "            map[i]+=1\n",
    "        else:\n",
    "            map[i]=1\n",
    "    for i in l:\n",
    "        if map[i]!=0:\n",
    "            if k==0:\n",
    "                for j in range(m.factorial(i)//i):\n",
    "                    print(i, i)\n",
    "                return\n",
    "                    \n",
    "            elif map.get(i+k, 0)!=0:\n",
    "                for itr in range(map[i]*map[i+k]):\n",
    "                    print(i, i+k)\n",
    "            \n",
    "            if map.get(i-k, 0)!=0:\n",
    "                for itr in range(map[i]*map[i-k]):\n",
    "                    print(i-k, i)\n",
    "        map[i]=0\n",
    "\n",
    "\n",
    "\n",
    "n=int(input())\n",
    "l=list(int(i) for i in input().strip().split(' '))\n",
    "k=int(input())\n",
    "\n",
    "printPairDiffK(l, k)"
   ]
  }
 ],
 "metadata": {
  "kernelspec": {
   "display_name": "Python 3 (ipykernel)",
   "language": "python",
   "name": "python3"
  },
  "language_info": {
   "codemirror_mode": {
    "name": "ipython",
    "version": 3
   },
   "file_extension": ".py",
   "mimetype": "text/x-python",
   "name": "python",
   "nbconvert_exporter": "python",
   "pygments_lexer": "ipython3",
   "version": "3.9.12"
  }
 },
 "nbformat": 4,
 "nbformat_minor": 5
}
