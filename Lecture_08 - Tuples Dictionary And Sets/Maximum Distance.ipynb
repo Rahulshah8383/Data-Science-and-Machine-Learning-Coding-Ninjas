{
 "cells": [
  {
   "cell_type": "code",
   "execution_count": 1,
   "id": "0f944e08",
   "metadata": {},
   "outputs": [],
   "source": [
    "# Maximum Distance\n",
    "# Given an array that might contain duplicate elements, find the maximum possible distance between occurrences of two repeating \n",
    "# elements i.e. elements having same value. If there are no duplicate elements in the array, return 0.\n",
    "# Input Format :\n",
    "# Line 1 : Contains integer N which is the size of array\n",
    "# Line 2 : Contains N Integers i.e. the elements of the array.\n",
    "# Sample Output :\n",
    "#  Line 1 : Maximum Distance Value\n",
    "# Sample Input :\n",
    "# 9\n",
    "# 1  3  1  4  5  6  4  8  3\n",
    "# Sample Output :\n",
    "# 7\n",
    "# Sample Output Explanation :\n",
    "# arr = [1, 3, 1, 4, 5, 6, 4, 8, 3];\n",
    "#     index0 = 1\n",
    "#     index1 = 3\n",
    "#     index2 = 1\n",
    "#     index3 = 4\n",
    "#     index4 = 5\n",
    "#     index5 = 6\n",
    "#     index6 = 4\n",
    "#     index7 = 8\n",
    "#     index8 = 3\n",
    "\n",
    "#     In the above array, the repeating elements are :- (1, 3, 4)\n",
    "#     - Distance bw first and last occurence of 1 = 2(index2 - index0)\n",
    "#     - Distance bw first and last occurence of 3 = 7(index8 - index1)\n",
    "#     - Distance bw first and last occurence of 4 = 3(index6 - index3)\n",
    "\n",
    "#     So, for the above array you must return 7, as this is maximum possible distance between two repeating elements having \n",
    "#      same value."
   ]
  },
  {
   "cell_type": "code",
   "execution_count": 2,
   "id": "6fa86410",
   "metadata": {},
   "outputs": [
    {
     "name": "stdout",
     "output_type": "stream",
     "text": [
      "9\n",
      "1  3  1  4  5  6  4  8  3\n",
      "7\n"
     ]
    }
   ],
   "source": [
    "def maxDistance(arr, n): \n",
    "      \n",
    "    mp = {}\n",
    "    maxDict = 0\n",
    "    for i in range(n): \n",
    "\n",
    "        if arr[i] not in mp.keys(): \n",
    "            mp[arr[i]] = i \n",
    "  \n",
    "        else: \n",
    "            maxDict = max(maxDict, i-mp[arr[i]]) \n",
    "  \n",
    "    return maxDict \n",
    "# Main\n",
    "n = int(input())\n",
    "arr = [i for i in input().split()]\n",
    "\n",
    "print(maxDistance(arr,n))"
   ]
  }
 ],
 "metadata": {
  "kernelspec": {
   "display_name": "Python 3 (ipykernel)",
   "language": "python",
   "name": "python3"
  },
  "language_info": {
   "codemirror_mode": {
    "name": "ipython",
    "version": 3
   },
   "file_extension": ".py",
   "mimetype": "text/x-python",
   "name": "python",
   "nbconvert_exporter": "python",
   "pygments_lexer": "ipython3",
   "version": "3.9.12"
  }
 },
 "nbformat": 4,
 "nbformat_minor": 5
}
