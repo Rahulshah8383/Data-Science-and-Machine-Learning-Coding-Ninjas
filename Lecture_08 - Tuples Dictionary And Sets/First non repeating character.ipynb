{
 "cells": [
  {
   "cell_type": "code",
   "execution_count": 1,
   "id": "e1231dcc",
   "metadata": {},
   "outputs": [],
   "source": [
    "# First non repeating character\n",
    "# In a given string, find the first non-repeating character .You are given a string, that can contain repeating characters. Your task is to return the first character in this string that does not repeat. i.e., occurs exactly once. The string will contain characters only from English alphabet set, i.e., ('A' - 'Z') and ('a' - 'z'). If there is no non-repeating character print the first character of string.\n",
    "# Input Format :\n",
    "# Line 1 : A String , as mentioned above.\n",
    "# Output Format :\n",
    "# First non-repeating character\n",
    "# Sample Input 1 :\n",
    "# aDcadhc\n",
    "# Sample Output 1:\n",
    "# D\n",
    "# Sample Input 2 :\n",
    "# gdhIgHada\n",
    "# Sample Output 2 :\n",
    "# h"
   ]
  },
  {
   "cell_type": "code",
   "execution_count": 2,
   "id": "8f0367a2",
   "metadata": {},
   "outputs": [
    {
     "name": "stdout",
     "output_type": "stream",
     "text": [
      "aDcadhc\n",
      "D\n"
     ]
    }
   ],
   "source": [
    "def nonRepeatingChar(str1):\n",
    "    char_order = []\n",
    "    ctr = {}\n",
    "    for c in str1:\n",
    "        if c in ctr:\n",
    "            ctr[c] = ctr[c] + 1\n",
    "        else:\n",
    "            ctr[c] = 1 \n",
    "            char_order.append(c)\n",
    "    for c in char_order:\n",
    "        if ctr[c] == 1:\n",
    "            return c\n",
    "    return None\n",
    "\n",
    "str1 = input()\n",
    "print(nonRepeatingChar(str1))"
   ]
  }
 ],
 "metadata": {
  "kernelspec": {
   "display_name": "Python 3 (ipykernel)",
   "language": "python",
   "name": "python3"
  },
  "language_info": {
   "codemirror_mode": {
    "name": "ipython",
    "version": 3
   },
   "file_extension": ".py",
   "mimetype": "text/x-python",
   "name": "python",
   "nbconvert_exporter": "python",
   "pygments_lexer": "ipython3",
   "version": "3.9.12"
  }
 },
 "nbformat": 4,
 "nbformat_minor": 5
}
