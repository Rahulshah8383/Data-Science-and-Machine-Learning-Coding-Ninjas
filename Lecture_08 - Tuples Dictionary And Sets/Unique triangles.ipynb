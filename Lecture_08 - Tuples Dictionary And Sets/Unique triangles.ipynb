{
 "cells": [
  {
   "cell_type": "code",
   "execution_count": 1,
   "id": "43353a5e",
   "metadata": {},
   "outputs": [],
   "source": [
    "# Unique triangles\n",
    "# You are given n triangles. You are required to find how many triangles are unique out of given triangles. For each triangle you are given three integers a, b and c (the sides of a triangle).\n",
    "# A triangle is said to be unique if there is no other triangle with same set of sides.\n",
    "# Note : It is always possible to form triangle with given sides.\n",
    "# Input Constraints :\n",
    "# Line 1 : Integer n, the number of triangles\n",
    "# Next n lines : Three integers a,b,c (sides of a triangle).\n",
    "# Output Format :\n",
    "# print single integer, the number of unique triangles.\n",
    "# Constraints :\n",
    "# 1 <= n <= 10^4\n",
    "# 1 <= a,b,c <= 10^15.\n",
    "# Sample Input :\n",
    "# 5\n",
    "# 7 6 5\n",
    "# 5 7 6\n",
    "# 8 2 9\n",
    "# 2 3 4\n",
    "# 2 4 3\n",
    "# Sample Output :\n",
    "# 1"
   ]
  },
  {
   "cell_type": "code",
   "execution_count": 2,
   "id": "6f2fbe53",
   "metadata": {},
   "outputs": [
    {
     "name": "stdout",
     "output_type": "stream",
     "text": [
      "5\n",
      "7 6 5\n",
      "5 7 6\n",
      "8 2 9\n",
      "2 3 4\n",
      "2 4 3\n",
      "1\n"
     ]
    }
   ],
   "source": [
    "n=int(input())\n",
    "l1=[]\n",
    "l2=[]\n",
    "ct=0\n",
    "for i in range(0,n):\n",
    "    l1=list([i.strip() for i in input().split(' ')])\n",
    "    l2.append(l1)\n",
    "for i in range(0,len(l2)):\n",
    "    l2[i].sort()\n",
    "    l2[i]=int(\"\".join(l2[i]))\n",
    "\n",
    " \n",
    "l3=list(set(l2))\n",
    "for i in range(0,len(l3)):\n",
    "    if l2.count(l3[i])==1:\n",
    "        ct=ct+1\n",
    "print(ct)"
   ]
  }
 ],
 "metadata": {
  "kernelspec": {
   "display_name": "Python 3 (ipykernel)",
   "language": "python",
   "name": "python3"
  },
  "language_info": {
   "codemirror_mode": {
    "name": "ipython",
    "version": 3
   },
   "file_extension": ".py",
   "mimetype": "text/x-python",
   "name": "python",
   "nbconvert_exporter": "python",
   "pygments_lexer": "ipython3",
   "version": "3.9.12"
  }
 },
 "nbformat": 4,
 "nbformat_minor": 5
}
