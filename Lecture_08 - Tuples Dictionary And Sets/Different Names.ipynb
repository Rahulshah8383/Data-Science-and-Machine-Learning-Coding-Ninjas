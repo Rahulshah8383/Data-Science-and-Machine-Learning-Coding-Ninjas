{
 "cells": [
  {
   "cell_type": "code",
   "execution_count": 1,
   "id": "9cf5b854",
   "metadata": {},
   "outputs": [],
   "source": [
    "# Different Names\n",
    "# In Little Flowers Public School, there are many students with same first names. You are given a task to find the students with same names. You will be given a string comprising of all the names of students and you have to tell the name and count of those students having same. If all the names are unique, print -1 instead.\n",
    "# Note: We don't have to mention names whose frequency is 1.\n",
    "# Input Format:\n",
    "# The only line of input will have a string ‘str’ with space separated first names of students.\n",
    "# Output Format:\n",
    "# Print the names of students along with their count if they are repeating. If no name is repeating, print -1\n",
    "# Constraints:\n",
    "# 1 <= |str| <= 10^5\n",
    "# Time Limit: 1 second\n",
    "# Sample Input 1:\n",
    "# Abhishek harshit Ayush harshit Ayush Iti Deepak Ayush Iti\n",
    "# Sample Output 1:\n",
    "# harshit 2\n",
    "# Ayush 3\n",
    "# Iti 2\n",
    "# Sample Input 2:\n",
    "# Abhishek Harshit Ayush Iti\n",
    "# Sample Output:\n",
    "# -1"
   ]
  },
  {
   "cell_type": "code",
   "execution_count": 2,
   "id": "b688cd71",
   "metadata": {},
   "outputs": [
    {
     "name": "stdout",
     "output_type": "stream",
     "text": [
      "Abhishek harshit Ayush harshit Ayush Iti Deepak Ayush Iti\n",
      "harshit 2\n",
      "Ayush 3\n",
      "Iti 2\n"
     ]
    }
   ],
   "source": [
    "def differentNames(l):\n",
    "    s1 = set()\n",
    "    s2 = set()\n",
    "    for i in l:\n",
    "        s1.add(i)\n",
    "\n",
    "    map = {}\n",
    "    for i in l:\n",
    "        if i in map:\n",
    "            map[i] += 1\n",
    "        else:\n",
    "            map[i] = 1\n",
    "\n",
    "    for i in map.keys():\n",
    "        if map[i] >= 2:\n",
    "            s2.add(i)\n",
    "    s1.difference_update(s2)\n",
    "    for i in s1:\n",
    "        l.remove(i)\n",
    "\n",
    "    m={}\n",
    "    for i in l:\n",
    "        if i in m:\n",
    "            m[i]+=1\n",
    "        else:\n",
    "            m[i]=1\n",
    "    return m\n",
    "    pass\n",
    "\n",
    "\n",
    "# Main\n",
    "names = input().strip().split()\n",
    "m = differentNames(names)\n",
    "if m:\n",
    "    for name in m:\n",
    "        print(name, m[name])\n",
    "else:\n",
    "    print(-1)"
   ]
  }
 ],
 "metadata": {
  "kernelspec": {
   "display_name": "Python 3 (ipykernel)",
   "language": "python",
   "name": "python3"
  },
  "language_info": {
   "codemirror_mode": {
    "name": "ipython",
    "version": 3
   },
   "file_extension": ".py",
   "mimetype": "text/x-python",
   "name": "python",
   "nbconvert_exporter": "python",
   "pygments_lexer": "ipython3",
   "version": "3.9.12"
  }
 },
 "nbformat": 4,
 "nbformat_minor": 5
}
