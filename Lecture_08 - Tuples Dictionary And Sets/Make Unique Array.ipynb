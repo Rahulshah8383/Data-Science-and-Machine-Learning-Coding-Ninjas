{
 "cells": [
  {
   "cell_type": "code",
   "execution_count": 1,
   "id": "961883eb",
   "metadata": {},
   "outputs": [],
   "source": [
    "# Make Unique Array\n",
    "# Find number of elements to be removed to make an array of all distinct element\n",
    "\n",
    "# Example:\n",
    "#     Ar = {2,1,4,2,1}\n",
    "#     output - 2(remove 2 ad 1).\n",
    "    \n",
    "# Input format:\n",
    "#     Line 1: integer N\n",
    "#     Line 2: N integers separated be a single space\n",
    "\n",
    "# Output format:\n",
    "#     integer\n",
    "\n",
    "# constraints:\n",
    "#     0<=N<=10^4\n",
    "\n",
    "\n",
    "# Sample input:\n",
    "#     5\n",
    "#     2 1 4 2 1\n",
    "    \n",
    "# Sample output:\n",
    "#     2"
   ]
  },
  {
   "cell_type": "code",
   "execution_count": 2,
   "id": "beacc9f2",
   "metadata": {},
   "outputs": [
    {
     "name": "stdout",
     "output_type": "stream",
     "text": [
      "5\n",
      "2 1 4 2 1\n",
      "2\n"
     ]
    }
   ],
   "source": [
    "def duplicateCount(arr):\n",
    "    s = set()\n",
    "    for i in arr:\n",
    "        s.add(i)\n",
    "    return len(arr)-len(s)\n",
    "\n",
    "\n",
    "# Main\n",
    "n=int(input())\n",
    "arr=list(int(i) for i in input().strip().split(' '))\n",
    "print(duplicateCount(arr))"
   ]
  }
 ],
 "metadata": {
  "kernelspec": {
   "display_name": "Python 3 (ipykernel)",
   "language": "python",
   "name": "python3"
  },
  "language_info": {
   "codemirror_mode": {
    "name": "ipython",
    "version": 3
   },
   "file_extension": ".py",
   "mimetype": "text/x-python",
   "name": "python",
   "nbconvert_exporter": "python",
   "pygments_lexer": "ipython3",
   "version": "3.9.12"
  }
 },
 "nbformat": 4,
 "nbformat_minor": 5
}
