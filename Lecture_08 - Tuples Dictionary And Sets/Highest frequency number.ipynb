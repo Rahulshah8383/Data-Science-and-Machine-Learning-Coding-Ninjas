{
 "cells": [
  {
   "cell_type": "code",
   "execution_count": 1,
   "id": "532c6c18",
   "metadata": {},
   "outputs": [],
   "source": [
    "# ## Highest frequency number\n",
    "# You are given an array of integers that contain numbers in random order. Write a program to find and return the number which occurs the maximum times in the given input.\n",
    "# If two or more elements contend for the maximum frequency, return the element which occurs in the array first.\n",
    "# Input Format:\n",
    "# The first line of input contains an integer, that denotes the value of the size of the array. Let us denote it with the symbol N.\n",
    "# The following line contains N space separated integers, that denote the value of the elements of the array.\n",
    "# Output Format :\n",
    "# The first and only line of output contains most frequent element in the given array.\n",
    "# Constraints:\n",
    "# 0 <= N <= 10^8\n",
    "# Time Limit: 1 sec\n",
    "# Sample Input 1 :\n",
    "# 13\n",
    "# 2 12 2 11 12 2 1 2 2 11 12 2 6 \n",
    "# Sample Output 1 :\n",
    "# 2\n",
    "# Sample Input 2 :\n",
    "# 3\n",
    "# 1 4 5\n",
    "# Sample Output 2 :\n",
    "# 1"
   ]
  },
  {
   "cell_type": "code",
   "execution_count": 2,
   "id": "5c787f70",
   "metadata": {},
   "outputs": [
    {
     "name": "stdout",
     "output_type": "stream",
     "text": [
      "13\n",
      "2 12 2 11 12 2 1 2 2 11 12 2 6\n",
      "2\n"
     ]
    }
   ],
   "source": [
    "def maxFreq(l):\n",
    "    # Please add your code here\n",
    "    d={}\n",
    "    for i in l:\n",
    "        d[i] = d.get(i,0) + 1\n",
    "\n",
    "        \n",
    "    max=0\n",
    "    \n",
    "    for i in l:\n",
    "        if(max<d[i]):\n",
    "            max = d[i]\n",
    "            t=i\n",
    "    \n",
    "    return t\n",
    "\n",
    "# Main\n",
    "n=int(input())\n",
    "l=list(int(i) for i in input().strip().split(' '))\n",
    "print(maxFreq(l))"
   ]
  }
 ],
 "metadata": {
  "kernelspec": {
   "display_name": "Python 3 (ipykernel)",
   "language": "python",
   "name": "python3"
  },
  "language_info": {
   "codemirror_mode": {
    "name": "ipython",
    "version": 3
   },
   "file_extension": ".py",
   "mimetype": "text/x-python",
   "name": "python",
   "nbconvert_exporter": "python",
   "pygments_lexer": "ipython3",
   "version": "3.9.12"
  }
 },
 "nbformat": 4,
 "nbformat_minor": 5
}
