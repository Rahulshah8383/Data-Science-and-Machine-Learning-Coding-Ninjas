{
 "cells": [
  {
   "cell_type": "code",
   "execution_count": 1,
   "id": "5dad48f1",
   "metadata": {},
   "outputs": [],
   "source": [
    "# Fibonacci Member\n",
    "# Given a number N, figure out if it is a member of fibonacci series or not. Return true if the number is member of fibonacci series else false.\n",
    "# Fibonacci Series is defined by the recurrence\n",
    "#     F(n) = F(n-1) + F(n-2)\n",
    "# where F(0) = 0 and F(1) = 1\n",
    "\n",
    "# Input Format :\n",
    "# Integer N\n",
    "# Output Format :\n",
    "# true or false\n",
    "# Constraints :\n",
    "# 0 <= n <= 10^4\n",
    "# Sample Input 1 :\n",
    "# 5\n",
    "# Sample Output 1 :\n",
    "# true\n",
    "# Sample Input 2 :\n",
    "# 14\n",
    "# Sample Output 2 :\n",
    "# false   "
   ]
  },
  {
   "cell_type": "code",
   "execution_count": 2,
   "id": "189f9dd5",
   "metadata": {},
   "outputs": [
    {
     "name": "stdout",
     "output_type": "stream",
     "text": [
      "5\n",
      "true\n"
     ]
    }
   ],
   "source": [
    "f = 0\n",
    "s = 1\n",
    "t = 1\n",
    "\n",
    "def checkMember(n):\n",
    "    global f\n",
    "    global s\n",
    "    global t\n",
    "    while t <= n:\n",
    "        t = f + s\n",
    "        f = s\n",
    "        s = t\n",
    "        if f == n:\n",
    "            return 1\n",
    "    pass\n",
    "\n",
    "n=int(input())\n",
    "if(checkMember(n)):\n",
    "    print(\"true\")\n",
    "else:\n",
    "    print(\"false\")"
   ]
  }
 ],
 "metadata": {
  "kernelspec": {
   "display_name": "Python 3 (ipykernel)",
   "language": "python",
   "name": "python3"
  },
  "language_info": {
   "codemirror_mode": {
    "name": "ipython",
    "version": 3
   },
   "file_extension": ".py",
   "mimetype": "text/x-python",
   "name": "python",
   "nbconvert_exporter": "python",
   "pygments_lexer": "ipython3",
   "version": "3.9.12"
  }
 },
 "nbformat": 4,
 "nbformat_minor": 5
}
