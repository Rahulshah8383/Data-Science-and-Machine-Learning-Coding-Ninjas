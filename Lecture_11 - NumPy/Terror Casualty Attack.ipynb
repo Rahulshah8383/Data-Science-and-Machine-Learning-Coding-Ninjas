{
 "cells": [
  {
   "cell_type": "code",
   "execution_count": 1,
   "id": "dc0ed9ec",
   "metadata": {},
   "outputs": [
    {
     "name": "stdout",
     "output_type": "stream",
     "text": [
      "22 Kargil District Separatists\n"
     ]
    }
   ],
   "source": [
    "import numpy as np\n",
    "import csv\n",
    "\n",
    "with open('terrorismData.csv',encoding = 'UTF-8') as file_obj:\n",
    "    file_data = csv.DictReader(file_obj,skipinitialspace=True)\n",
    "    \n",
    "    casualty = []\n",
    "    month = []\n",
    "    city = []\n",
    "    \n",
    "    for row in file_data:\n",
    "        if(row['State'] == 'Jammu and Kashmir' and row['Year'] == '1999'):\n",
    "            if(row['Month']=='5' or row['Month']=='6' or row['Month']=='7'):\n",
    "                city.append([row['City'],row['Group']])\n",
    "                casualty.append([row['Killed'],row['Wounded']])\n",
    "    casualty = np.array(casualty)\n",
    "    city = np.array(city)\n",
    "    casualty[casualty == ''] = '0.0'\n",
    "    casualty = np.array(casualty,dtype = float)\n",
    "    casualty = np.array(casualty,dtype = int)\n",
    "    casualty = casualty[:,0] + casualty[:,1]\n",
    "    index = np.argmax(casualty)\n",
    "    print(casualty[index],city[index][0],city[index][1])"
   ]
  }
 ],
 "metadata": {
  "kernelspec": {
   "display_name": "Python 3 (ipykernel)",
   "language": "python",
   "name": "python3"
  },
  "language_info": {
   "codemirror_mode": {
    "name": "ipython",
    "version": 3
   },
   "file_extension": ".py",
   "mimetype": "text/x-python",
   "name": "python",
   "nbconvert_exporter": "python",
   "pygments_lexer": "ipython3",
   "version": "3.9.12"
  }
 },
 "nbformat": 4,
 "nbformat_minor": 5
}
