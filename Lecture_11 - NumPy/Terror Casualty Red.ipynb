{
 "cells": [
  {
   "cell_type": "code",
   "execution_count": 1,
   "id": "3b7c06e1",
   "metadata": {},
   "outputs": [
    {
     "name": "stdout",
     "output_type": "stream",
     "text": [
      "5628\n"
     ]
    }
   ],
   "source": [
    "import numpy as np\n",
    "import csv\n",
    "with open('terrorismData.csv',encoding=\"utf8\") as file_obj:\n",
    "    file_data = csv.DictReader(file_obj,skipinitialspace=True)\n",
    "   \n",
    "    state = []\n",
    "    killed = []\n",
    "    wounded = []\n",
    "   \n",
    "    for row in file_data:\n",
    "        if row['Country'] == 'India':\n",
    "            state.append(row['State'])\n",
    "            killed.append(row['Killed'])\n",
    "            wounded.append(row['Wounded'])\n",
    "          \n",
    "    np_state   = np.array(state)\n",
    "    np_killed  = np.array(killed)\n",
    "    np_wounded = np.array(wounded)   \n",
    "    \n",
    "    np_killed[np_killed == ''] = '0.0'\n",
    "    np_wounded[np_wounded == ''] = '0.0'\n",
    "       \n",
    "    np_killed  = np.array(np_killed,dtype=float)\n",
    "    np_killed  = np.array(np_killed,dtype=int)\n",
    "    np_wounded = np.array(np_wounded,dtype=float)\n",
    "    np_wounded = np.array(np_wounded,dtype=int)\n",
    "    np_casualty = np_killed + np_wounded\n",
    "    \n",
    "    bool_red = (np_state == 'Jharkhand') | (np_state == 'Odisha') | (np_state == 'Andhra Pradesh') | (np_state == 'Chhattisgarh')\n",
    "   \n",
    "    np_cas_filter  = np_casualty[(bool_red)]\n",
    "    cas_count = np.sum(np_cas_filter)\n",
    "    print(cas_count)"
   ]
  }
 ],
 "metadata": {
  "kernelspec": {
   "display_name": "Python 3 (ipykernel)",
   "language": "python",
   "name": "python3"
  },
  "language_info": {
   "codemirror_mode": {
    "name": "ipython",
    "version": 3
   },
   "file_extension": ".py",
   "mimetype": "text/x-python",
   "name": "python",
   "nbconvert_exporter": "python",
   "pygments_lexer": "ipython3",
   "version": "3.9.12"
  }
 },
 "nbformat": 4,
 "nbformat_minor": 5
}
