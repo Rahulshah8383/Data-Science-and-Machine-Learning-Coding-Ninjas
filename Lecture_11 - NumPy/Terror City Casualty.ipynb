{
 "cells": [
  {
   "cell_type": "code",
   "execution_count": 1,
   "id": "564786d5",
   "metadata": {},
   "outputs": [
    {
     "name": "stdout",
     "output_type": "stream",
     "text": [
      "Srinagar 3134\n",
      "New Delhi 2095\n",
      "Mumbai 2016\n",
      "Jammu 1119\n",
      "Guwahati 822\n"
     ]
    }
   ],
   "source": [
    "import numpy as np\n",
    "import csv\n",
    "with open('terrorismData.csv',encoding=\"utf8\") as file_obj:\n",
    "    file_data = csv.DictReader(file_obj,skipinitialspace=True)\n",
    "   \n",
    "    city = []\n",
    "    killed = []\n",
    "    wounded = []\n",
    "   \n",
    "    for row in file_data:\n",
    "        if row['Country'] == 'India' and row['City'] != 'Unknown':\n",
    "            city.append(row['City'])\n",
    "            killed.append(row['Killed'])\n",
    "            wounded.append(row['Wounded'])\n",
    "          \n",
    "    np_city   = np.array(city)\n",
    "    np_killed  = np.array(killed)\n",
    "    np_wounded = np.array(wounded)   \n",
    "    \n",
    "    np_killed[np_killed == ''] = '0.0'\n",
    "    np_wounded[np_wounded == ''] = '0.0'\n",
    "       \n",
    "    np_killed  = np.array(np_killed,dtype=float)\n",
    "    np_killed  = np.array(np_killed,dtype=int)\n",
    "    np_wounded = np.array(np_wounded,dtype=float)\n",
    "    np_wounded = np.array(np_wounded,dtype=int)\n",
    "    np_casualty = np_killed + np_wounded\n",
    "    \n",
    "    np_city_u   = np.unique(np_city)\n",
    "    cas_u    = []\n",
    "    for ind_city in np_city_u:\n",
    "        tot_cas = np.sum(np_casualty[(np_city == ind_city)])\n",
    "        cas_u.append(tot_cas)\n",
    "    np_cas_u    = np.array(cas_u)\n",
    "    ind = np_cas_u.argsort()\n",
    "    ind = ind[::-1]\n",
    "    ind = ind[:5]\n",
    "    for i in ind:\n",
    "        print(np_city_u[i],np_cas_u[i])"
   ]
  }
 ],
 "metadata": {
  "kernelspec": {
   "display_name": "Python 3 (ipykernel)",
   "language": "python",
   "name": "python3"
  },
  "language_info": {
   "codemirror_mode": {
    "name": "ipython",
    "version": 3
   },
   "file_extension": ".py",
   "mimetype": "text/x-python",
   "name": "python",
   "nbconvert_exporter": "python",
   "pygments_lexer": "ipython3",
   "version": "3.9.12"
  }
 },
 "nbformat": 4,
 "nbformat_minor": 5
}
