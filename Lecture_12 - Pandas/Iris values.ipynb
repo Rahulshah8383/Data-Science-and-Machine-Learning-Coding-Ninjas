{
 "cells": [
  {
   "attachments": {},
   "cell_type": "markdown",
   "id": "935b2835",
   "metadata": {},
   "source": [
    "# Iris Values"
   ]
  },
  {
   "cell_type": "code",
   "execution_count": 1,
   "id": "670c3c1f",
   "metadata": {},
   "outputs": [],
   "source": [
    "# Iris Values\n",
    "\n",
    "# Problem Statement\n",
    "# Find and print the minimum, maximum and average value of the feature for each kind of flower?\n",
    "\n",
    "# Note: Get the dataset from here\n",
    "\n",
    "# Print the value with two decimal places.\n",
    "\n",
    "# Note: Order for flower is Iris-setosa, Iris-versicolor and Iris-virginica.\n",
    "\n",
    "# Output Format\n",
    "# minSL minSW minPL minPW Iris-setosa \n",
    "# maxSL maxSW maxPL maxPW Iris-setosa \n",
    "# avgSL avgSW avgPL avgPW Iris-setosa\n",
    "# ....\n",
    "# ....\n",
    "# ...."
   ]
  },
  {
   "cell_type": "code",
   "execution_count": 1,
   "id": "40b7fec8",
   "metadata": {},
   "outputs": [
    {
     "name": "stderr",
     "output_type": "stream",
     "text": [
      "C:\\Users\\Rahul Shah\\AppData\\Local\\Temp\\ipykernel_14868\\3995028944.py:10: FutureWarning: Dropping of nuisance columns in DataFrame reductions (with 'numeric_only=None') is deprecated; in a future version this will raise TypeError.  Select only valid columns before calling the reduction.\n",
      "  setoaavg = Irissetosa[['SepalLength','SepalWidth','PetalLength','PetalWidth','Species']].mean()\n",
      "C:\\Users\\Rahul Shah\\AppData\\Local\\Temp\\ipykernel_14868\\3995028944.py:14: FutureWarning: Dropping of nuisance columns in DataFrame reductions (with 'numeric_only=None') is deprecated; in a future version this will raise TypeError.  Select only valid columns before calling the reduction.\n",
      "  virginicaavg = Irisvirginica[['SepalLength','SepalWidth','PetalLength','PetalWidth','Species']].mean()\n",
      "C:\\Users\\Rahul Shah\\AppData\\Local\\Temp\\ipykernel_14868\\3995028944.py:18: FutureWarning: Dropping of nuisance columns in DataFrame reductions (with 'numeric_only=None') is deprecated; in a future version this will raise TypeError.  Select only valid columns before calling the reduction.\n",
      "  versicoloravg = Irisversicolor[['SepalLength','SepalWidth','PetalLength','PetalWidth','Species']].mean()\n"
     ]
    },
    {
     "name": "stdout",
     "output_type": "stream",
     "text": [
      "4.30 2.30 1.00 0.10 "
     ]
    },
    {
     "ename": "ValueError",
     "evalue": "Unknown format code 'f' for object of type 'str'",
     "output_type": "error",
     "traceback": [
      "\u001b[1;31m---------------------------------------------------------------------------\u001b[0m",
      "\u001b[1;31mValueError\u001b[0m                                Traceback (most recent call last)",
      "Input \u001b[1;32mIn [1]\u001b[0m, in \u001b[0;36m<cell line: 20>\u001b[1;34m()\u001b[0m\n\u001b[0;32m     18\u001b[0m versicoloravg \u001b[38;5;241m=\u001b[39m Irisversicolor[[\u001b[38;5;124m'\u001b[39m\u001b[38;5;124mSepalLength\u001b[39m\u001b[38;5;124m'\u001b[39m,\u001b[38;5;124m'\u001b[39m\u001b[38;5;124mSepalWidth\u001b[39m\u001b[38;5;124m'\u001b[39m,\u001b[38;5;124m'\u001b[39m\u001b[38;5;124mPetalLength\u001b[39m\u001b[38;5;124m'\u001b[39m,\u001b[38;5;124m'\u001b[39m\u001b[38;5;124mPetalWidth\u001b[39m\u001b[38;5;124m'\u001b[39m,\u001b[38;5;124m'\u001b[39m\u001b[38;5;124mSpecies\u001b[39m\u001b[38;5;124m'\u001b[39m]]\u001b[38;5;241m.\u001b[39mmean()\n\u001b[0;32m     20\u001b[0m \u001b[38;5;28;01mfor\u001b[39;00m i \u001b[38;5;129;01min\u001b[39;00m setoamin:\n\u001b[1;32m---> 21\u001b[0m     \u001b[38;5;28mprint\u001b[39m(\u001b[38;5;28;43mformat\u001b[39;49m\u001b[43m(\u001b[49m\u001b[43mi\u001b[49m\u001b[43m,\u001b[49m\u001b[43m \u001b[49m\u001b[38;5;124;43m'\u001b[39;49m\u001b[38;5;124;43m.2f\u001b[39;49m\u001b[38;5;124;43m'\u001b[39;49m\u001b[43m)\u001b[49m,end\u001b[38;5;241m=\u001b[39m\u001b[38;5;124m\"\u001b[39m\u001b[38;5;124m \u001b[39m\u001b[38;5;124m\"\u001b[39m)\n\u001b[0;32m     22\u001b[0m \u001b[38;5;28mprint\u001b[39m()\n\u001b[0;32m     23\u001b[0m \u001b[38;5;28;01mfor\u001b[39;00m i \u001b[38;5;129;01min\u001b[39;00m setoamax:\n",
      "\u001b[1;31mValueError\u001b[0m: Unknown format code 'f' for object of type 'str'"
     ]
    }
   ],
   "source": [
    "import pandas as pd\n",
    "columns_names=[\"SepalLength\" , \"SepalWidth\" , \"PetalLength\" , \"PetalWidth\" , \"Species\" ] \n",
    "iris=pd.read_csv('https://archive.ics.uci.edu/ml/machine-learning-databases/iris/iris.data',names=columns_names)\n",
    "\n",
    "Irissetosa = iris[iris['Species'] == 'Iris-setosa']\n",
    "Irisversicolor = iris[iris['Species'] == 'Iris-versicolor']\n",
    "Irisvirginica = iris[iris['Species'] == 'Iris-virginica']\n",
    "setoamin = Irissetosa[['SepalLength','SepalWidth','PetalLength','PetalWidth','Species']].min()\n",
    "setoamax = Irissetosa[['SepalLength','SepalWidth','PetalLength','PetalWidth','Species']].max()\n",
    "setoaavg = Irissetosa[['SepalLength','SepalWidth','PetalLength','PetalWidth','Species']].mean()\n",
    "\n",
    "virginicamin = Irisvirginica[['SepalLength','SepalWidth','PetalLength','PetalWidth','Species']].min()\n",
    "virginicamax = Irisvirginica[['SepalLength','SepalWidth','PetalLength','PetalWidth','Species']].max()\n",
    "virginicaavg = Irisvirginica[['SepalLength','SepalWidth','PetalLength','PetalWidth','Species']].mean()\n",
    "\n",
    "versicolormin = Irisversicolor[['SepalLength','SepalWidth','PetalLength','PetalWidth','Species']].min()\n",
    "versicolormax = Irisversicolor[['SepalLength','SepalWidth','PetalLength','PetalWidth','Species']].max()\n",
    "versicoloravg = Irisversicolor[['SepalLength','SepalWidth','PetalLength','PetalWidth','Species']].mean()\n",
    "\n",
    "for i in setoamin:\n",
    "    print(format(i, '.2f'),end=\" \")\n",
    "print()\n",
    "for i in setoamax:\n",
    "    print(format(i, '.2f'),end=\" \")\n",
    "print()\n",
    "for i in setoaavg:\n",
    "    i = round(i,2)\n",
    "    print(i,end=\" \")\n",
    "print(\"Iris-setosa\")\n",
    "for i in virginicamin:\n",
    "    print(i,end=\" \")\n",
    "print()\n",
    "for i in virginicamax:\n",
    "    print(i,end=\" \")\n",
    "print()\n",
    "for i in virginicaavg:\n",
    "    i = round(i,2)\n",
    "    print(i,end=\" \")\n",
    "print(\"Iris-versicolor\")\n",
    "for i in versicolormin:\n",
    "    print(i,end=\" \")\n",
    "print()\n",
    "for i in versicolormax:\n",
    "    print(i,end=\" \")\n",
    "print()\n",
    "for i in versicoloravg:\n",
    "    i = round(i,2)\n",
    "    print(i,end=\" \")\n",
    "print(\"Iris-versicolor\")"
   ]
  }
 ],
 "metadata": {
  "kernelspec": {
   "display_name": "Python 3 (ipykernel)",
   "language": "python",
   "name": "python3"
  },
  "language_info": {
   "codemirror_mode": {
    "name": "ipython",
    "version": 3
   },
   "file_extension": ".py",
   "mimetype": "text/x-python",
   "name": "python",
   "nbconvert_exporter": "python",
   "pygments_lexer": "ipython3",
   "version": "3.9.12"
  }
 },
 "nbformat": 4,
 "nbformat_minor": 5
}
