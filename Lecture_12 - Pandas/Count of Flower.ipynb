{
 "cells": [
  {
   "cell_type": "markdown",
   "id": "a75e0242",
   "metadata": {},
   "source": [
    "# Count of Flower"
   ]
  },
  {
   "cell_type": "code",
   "execution_count": 1,
   "id": "37138fc0",
   "metadata": {},
   "outputs": [],
   "source": [
    "# Count of Flower\n",
    "# Find and print count of each kind of flower (separated by space)?\n",
    "\n",
    "# Note: Get the dataset from here\n",
    "\n",
    "# Print the count as Integer Value.\n",
    "\n",
    "# Output Format\n",
    "\n",
    "# count1 count2 count3....."
   ]
  },
  {
   "cell_type": "code",
   "execution_count": 1,
   "id": "2006e0d1",
   "metadata": {},
   "outputs": [
    {
     "name": "stdout",
     "output_type": "stream",
     "text": [
      "50 50 50 "
     ]
    }
   ],
   "source": [
    "import pandas as pd\n",
    "columns_names = [\"SepalLength\" , \"SepalWidth\" , \"PetalLength\" , \"PetalWidth\" , \"Species\" ]\n",
    "iris = pd.read_csv(\"https://archive.ics.uci.edu/ml/machine-learning-databases/iris/iris.data\",names = columns_names)\n",
    "\n",
    "for i in iris.Species.value_counts():\n",
    "    print(i,end=\" \")"
   ]
  }
 ],
 "metadata": {
  "kernelspec": {
   "display_name": "Python 3 (ipykernel)",
   "language": "python",
   "name": "python3"
  },
  "language_info": {
   "codemirror_mode": {
    "name": "ipython",
    "version": 3
   },
   "file_extension": ".py",
   "mimetype": "text/x-python",
   "name": "python",
   "nbconvert_exporter": "python",
   "pygments_lexer": "ipython3",
   "version": "3.9.12"
  }
 },
 "nbformat": 4,
 "nbformat_minor": 5
}
