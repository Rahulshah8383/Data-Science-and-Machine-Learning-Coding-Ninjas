{
 "cells": [
  {
   "attachments": {},
   "cell_type": "markdown",
   "id": "e3fae346",
   "metadata": {},
   "source": [
    "# Terror Attack City"
   ]
  },
  {
   "cell_type": "code",
   "execution_count": null,
   "id": "8f7c0f79",
   "metadata": {},
   "outputs": [],
   "source": [
    "# Terror Attack City\n",
    "\n",
    "# Given file \"terrorismData.csv\"\n",
    "\n",
    "# It is an open-source database including information on terrorist attacks around the world from 1970 through\n",
    "#  2017. This dataset includes systematic \n",
    "# data on domestic as well as international terrorist incidents that have occurred during this time period\n",
    "\n",
    "# Problem Statement:\n",
    "# The Most Dangerous city in Jammu and Kashmir and the terrorist group which is most active in that city?\n",
    "\n",
    "# Print count of number of attacks in that city as integer value.\n",
    "\n",
    "# Note:Ignoring the Unknown Terrorist Group.Here Dangerous related with the number of terrorist attacks.\n",
    "\n",
    "# Output Format:\n",
    "# City NumberOfAttack Group"
   ]
  },
  {
   "cell_type": "code",
   "execution_count": 3,
   "id": "811425c2",
   "metadata": {},
   "outputs": [
    {
     "name": "stdout",
     "output_type": "stream",
     "text": [
      "Srinagar 657 Muslim Separatists\n"
     ]
    }
   ],
   "source": [
    "import pandas as pd\n",
    "terData = pd.read_csv('terrorismData.csv',encoding=\"utf8\")\n",
    "df = terData.copy()\n",
    "df1 = df[df.State == 'Jammu and Kashmir']\n",
    "city_group = df1['City'].value_counts()\n",
    "city_name  = city_group.keys()[0]\n",
    "city_attacks = city_group[0]\n",
    "\n",
    "city_df = df1[(df1.City == city_name) & (df1.Group != 'Unknown')]\n",
    "grp_group  = city_df['Group'].value_counts()\n",
    "print(city_name, city_attacks,grp_group.keys()[0])"
   ]
  }
 ],
 "metadata": {
  "kernelspec": {
   "display_name": "Python 3 (ipykernel)",
   "language": "python",
   "name": "python3"
  },
  "language_info": {
   "codemirror_mode": {
    "name": "ipython",
    "version": 3
   },
   "file_extension": ".py",
   "mimetype": "text/x-python",
   "name": "python",
   "nbconvert_exporter": "python",
   "pygments_lexer": "ipython3",
   "version": "3.9.12"
  }
 },
 "nbformat": 4,
 "nbformat_minor": 5
}
