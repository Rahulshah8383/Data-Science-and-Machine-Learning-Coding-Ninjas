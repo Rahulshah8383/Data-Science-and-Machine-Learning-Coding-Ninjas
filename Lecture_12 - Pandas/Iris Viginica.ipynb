{
 "cells": [
  {
   "cell_type": "markdown",
   "id": "71ecc36e",
   "metadata": {},
   "source": [
    "# Iris Virginica"
   ]
  },
  {
   "cell_type": "code",
   "execution_count": null,
   "id": "2c3fa3af",
   "metadata": {},
   "outputs": [],
   "source": [
    "# Iris Virginica\n",
    "\n",
    "# Find the data of flower \"Iris-virginica\" type where petal-length > 1.5?\n",
    "\n",
    "# Note: Get the dataset from here\n",
    "\n",
    "# Print the all the feature values.\n",
    "\n",
    "# Output Format\n",
    "\n",
    "# feature1 feature2 feature3 feature4 feature5 \n",
    "# feature1 feature2 feature3 feature4 feature5 \n",
    "# feature1 feature2 feature3 feature4 feature5 \n",
    "# feature1 feature2 feature3 feature4 feature5\n",
    "# ....\n",
    "# ....\n",
    "# ...."
   ]
  },
  {
   "cell_type": "code",
   "execution_count": 1,
   "id": "e7dd82b5",
   "metadata": {},
   "outputs": [
    {
     "name": "stdout",
     "output_type": "stream",
     "text": [
      "6.3 3.3 6.0 2.5 Iris-virginica \n",
      "5.8 2.7 5.1 1.9 Iris-virginica \n",
      "7.1 3.0 5.9 2.1 Iris-virginica \n",
      "6.3 2.9 5.6 1.8 Iris-virginica \n",
      "6.5 3.0 5.8 2.2 Iris-virginica \n",
      "7.6 3.0 6.6 2.1 Iris-virginica \n",
      "4.9 2.5 4.5 1.7 Iris-virginica \n",
      "7.3 2.9 6.3 1.8 Iris-virginica \n",
      "6.7 2.5 5.8 1.8 Iris-virginica \n",
      "7.2 3.6 6.1 2.5 Iris-virginica \n",
      "6.5 3.2 5.1 2.0 Iris-virginica \n",
      "6.4 2.7 5.3 1.9 Iris-virginica \n",
      "6.8 3.0 5.5 2.1 Iris-virginica \n",
      "5.7 2.5 5.0 2.0 Iris-virginica \n",
      "5.8 2.8 5.1 2.4 Iris-virginica \n",
      "6.4 3.2 5.3 2.3 Iris-virginica \n",
      "6.5 3.0 5.5 1.8 Iris-virginica \n",
      "7.7 3.8 6.7 2.2 Iris-virginica \n",
      "7.7 2.6 6.9 2.3 Iris-virginica \n",
      "6.0 2.2 5.0 1.5 Iris-virginica \n",
      "6.9 3.2 5.7 2.3 Iris-virginica \n",
      "5.6 2.8 4.9 2.0 Iris-virginica \n",
      "7.7 2.8 6.7 2.0 Iris-virginica \n",
      "6.3 2.7 4.9 1.8 Iris-virginica \n",
      "6.7 3.3 5.7 2.1 Iris-virginica \n",
      "7.2 3.2 6.0 1.8 Iris-virginica \n",
      "6.2 2.8 4.8 1.8 Iris-virginica \n",
      "6.1 3.0 4.9 1.8 Iris-virginica \n",
      "6.4 2.8 5.6 2.1 Iris-virginica \n",
      "7.2 3.0 5.8 1.6 Iris-virginica \n",
      "7.4 2.8 6.1 1.9 Iris-virginica \n",
      "7.9 3.8 6.4 2.0 Iris-virginica \n",
      "6.4 2.8 5.6 2.2 Iris-virginica \n",
      "6.3 2.8 5.1 1.5 Iris-virginica \n",
      "6.1 2.6 5.6 1.4 Iris-virginica \n",
      "7.7 3.0 6.1 2.3 Iris-virginica \n",
      "6.3 3.4 5.6 2.4 Iris-virginica \n",
      "6.4 3.1 5.5 1.8 Iris-virginica \n",
      "6.0 3.0 4.8 1.8 Iris-virginica \n",
      "6.9 3.1 5.4 2.1 Iris-virginica \n",
      "6.7 3.1 5.6 2.4 Iris-virginica \n",
      "6.9 3.1 5.1 2.3 Iris-virginica \n",
      "5.8 2.7 5.1 1.9 Iris-virginica \n",
      "6.8 3.2 5.9 2.3 Iris-virginica \n",
      "6.7 3.3 5.7 2.5 Iris-virginica \n",
      "6.7 3.0 5.2 2.3 Iris-virginica \n",
      "6.3 2.5 5.0 1.9 Iris-virginica \n",
      "6.5 3.0 5.2 2.0 Iris-virginica \n",
      "6.2 3.4 5.4 2.3 Iris-virginica \n",
      "5.9 3.0 5.1 1.8 Iris-virginica \n"
     ]
    }
   ],
   "source": [
    "import pandas as pd\n",
    "\n",
    "columns_names = [\"SepalLength\" , \"SepalWidth\" , \"PetalLength\" , \"PetalWidth\" , \"Species\" ]\n",
    "iris = pd.read_csv(\"https://archive.ics.uci.edu/ml/machine-learning-databases/iris/iris.data\", names = columns_names)\n",
    "\n",
    "iris = iris[iris[\"Species\"] == 'Iris-virginica' ]\n",
    "iris = iris[iris[\"PetalLength\"] > 1.5]\n",
    "iris1 = iris.values\n",
    "\n",
    "for i in range(iris1.shape[0]):\n",
    "    for j in range(iris1.shape[1]):\n",
    "        print(iris1[i][j],end=\" \")\n",
    "    print()"
   ]
  }
 ],
 "metadata": {
  "kernelspec": {
   "display_name": "Python 3 (ipykernel)",
   "language": "python",
   "name": "python3"
  },
  "language_info": {
   "codemirror_mode": {
    "name": "ipython",
    "version": 3
   },
   "file_extension": ".py",
   "mimetype": "text/x-python",
   "name": "python",
   "nbconvert_exporter": "python",
   "pygments_lexer": "ipython3",
   "version": "3.9.12"
  }
 },
 "nbformat": 4,
 "nbformat_minor": 5
}
