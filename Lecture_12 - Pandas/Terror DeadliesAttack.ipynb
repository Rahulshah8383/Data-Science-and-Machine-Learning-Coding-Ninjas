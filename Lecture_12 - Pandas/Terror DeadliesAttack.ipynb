{
 "cells": [
  {
   "attachments": {},
   "cell_type": "markdown",
   "id": "d339035f",
   "metadata": {},
   "source": [
    "# Terror DeadliestAttack"
   ]
  },
  {
   "cell_type": "code",
   "execution_count": 1,
   "id": "46f2ec09",
   "metadata": {},
   "outputs": [],
   "source": [
    "# Terror DeadliestAttack\n",
    "\n",
    "# Given file \"terrorismData.csv\"\n",
    "\n",
    "# It is an open-source database including information on terrorist attacks around the world from 1970 through 2017. This dataset includes systematic data on domestic as well as international terrorist incidents that have occurred during this time period\n",
    "\n",
    "# Problem Statement:\n",
    "# Most Deadliest attack in a history of Humankind?\n",
    "\n",
    "# Print count of Killed people as integer value.\n",
    "\n",
    "# Note: Here Deadliest attack means, in which the most number of people killed.\n",
    "\n",
    "# Output Format:\n",
    "# NumberOfPeopleKilled Country TerroristGroup"
   ]
  },
  {
   "cell_type": "code",
   "execution_count": 1,
   "id": "d88750eb",
   "metadata": {},
   "outputs": [
    {
     "name": "stdout",
     "output_type": "stream",
     "text": [
      "1570 Iraq Islamic State of Iraq and the Levant (ISIL)\n"
     ]
    }
   ],
   "source": [
    "import pandas as pd\n",
    "terData = pd.read_csv('terrorismData.csv',encoding=\"utf8\")\n",
    "df = terData.copy()\n",
    "ind = df.Killed.idxmax()\n",
    "print(int(df.Killed[ind]), df.Country[ind], df.Group[ind])"
   ]
  }
 ],
 "metadata": {
  "kernelspec": {
   "display_name": "Python 3 (ipykernel)",
   "language": "python",
   "name": "python3"
  },
  "language_info": {
   "codemirror_mode": {
    "name": "ipython",
    "version": 3
   },
   "file_extension": ".py",
   "mimetype": "text/x-python",
   "name": "python",
   "nbconvert_exporter": "python",
   "pygments_lexer": "ipython3",
   "version": "3.9.12"
  }
 },
 "nbformat": 4,
 "nbformat_minor": 5
}
