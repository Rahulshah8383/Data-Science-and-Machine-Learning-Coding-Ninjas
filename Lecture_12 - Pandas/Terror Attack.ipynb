{
 "cells": [
  {
   "attachments": {},
   "cell_type": "markdown",
   "id": "0a130c5b",
   "metadata": {},
   "source": [
    "# Terror Attack"
   ]
  },
  {
   "cell_type": "code",
   "execution_count": 1,
   "id": "557efec1",
   "metadata": {},
   "outputs": [],
   "source": [
    "# Terror Attack\n",
    "\n",
    "# Given file \"terrorismData.csv\"\n",
    "\n",
    "# It is an open-source database including information on terrorist attacks around the world from 1970 \n",
    "# through 2017. This dataset includes systematic data on domestic as well as international terrorist \n",
    "# incidents that have occurred during this time period\n",
    "\n",
    "# Problem Statement:\n",
    "# Find out the Country with Highest Number of Terror Attack and in which year the most number of terrorist attack happened in that country?\n",
    "\n",
    "# Print count of terror attacks as integer value.\n",
    "\n",
    "# Output Format:\n",
    "# Country NumberOfAttack Year"
   ]
  },
  {
   "cell_type": "code",
   "execution_count": 1,
   "id": "1a29de55",
   "metadata": {},
   "outputs": [
    {
     "name": "stdout",
     "output_type": "stream",
     "text": [
      "Iraq 24636 2014\n"
     ]
    }
   ],
   "source": [
    "import pandas as pd\n",
    "terData = pd.read_csv('terrorismData.csv',encoding=\"utf8\")\n",
    "df = terData.copy()\n",
    "country_group = df['Country'].value_counts()\n",
    "country_name  = country_group.keys()[0]\n",
    "country_attacks = country_group[0]\n",
    "country_df = df[(df.Country == country_name)]\n",
    "year_group = country_df['Year'].value_counts()\n",
    "print(country_name, country_attacks , year_group.keys()[0])"
   ]
  }
 ],
 "metadata": {
  "kernelspec": {
   "display_name": "Python 3 (ipykernel)",
   "language": "python",
   "name": "python3"
  },
  "language_info": {
   "codemirror_mode": {
    "name": "ipython",
    "version": 3
   },
   "file_extension": ".py",
   "mimetype": "text/x-python",
   "name": "python",
   "nbconvert_exporter": "python",
   "pygments_lexer": "ipython3",
   "version": "3.9.12"
  }
 },
 "nbformat": 4,
 "nbformat_minor": 5
}
