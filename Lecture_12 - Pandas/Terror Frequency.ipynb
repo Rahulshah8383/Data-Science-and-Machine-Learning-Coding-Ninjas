{
 "cells": [
  {
   "cell_type": "markdown",
   "id": "ffbe8b92",
   "metadata": {},
   "source": [
    "# Terror Frequency"
   ]
  },
  {
   "cell_type": "code",
   "execution_count": 2,
   "id": "9d273259",
   "metadata": {},
   "outputs": [],
   "source": [
    "# Terror Government\n",
    "\n",
    "# Given file \"terrorismData.csv\"\n",
    "# Terror Frequency\n",
    "\n",
    "# Given file \"terrorismData.csv\"\n",
    "\n",
    "# It is an open-source database including information on terrorist attacks around the world from 1970 through 2017. This dataset includes systematic data on domestic as well as international terrorist incidents that have occurred during this time period\n",
    "\n",
    "# Problem Statement:\n",
    "# Find the frequency of the Casualty in Red Corridor states and in Jammu and Kashmir ?Here Frequency is (Total Casualty/Total Number of a year)\n",
    "\n",
    "# Print frequency as integer value.\n",
    "\n",
    "# Note:Red Corridor state includes Jharkhand, Odisha, Andhra Pradesh, and Chhattisgarh. Here\n",
    "# Casualty=Killed +Wounded. Don't fill the nan value present in killed and Wounded feature.\n",
    "\n",
    "# Output Format:\n",
    "# Frequency1 Frequency2\n",
    "# It is an open-source database including information on terrorist attacks around the world from 1970 through 2017. This dataset includes systematic data on domestic as well as international terrorist incidents that have occurred during this time period\n",
    "\n",
    "# Problem Statement:\n",
    "# There was formation of new government in India on 26 May 2014. So current government's span is from 26th May 2014 to current. Find out two things from this period-\n",
    "# 1. Total number of attacks done in this period in India. Find this count as integer.\n",
    "# 2. Which Terrorist group was most active in this period in India. Most active means, group which has done maximum number of attacks.\n",
    "# 3.Ignore the Unknown group.\n",
    "\n",
    "# Output Format:\n",
    "# TotalAttacks MostActive TerroristGroup"
   ]
  },
  {
   "cell_type": "code",
   "execution_count": 1,
   "id": "e1c3deb2",
   "metadata": {},
   "outputs": [
    {
     "name": "stdout",
     "output_type": "stream",
     "text": [
      "115 261\n"
     ]
    }
   ],
   "source": [
    "import pandas as pd\n",
    "import numpy as np\n",
    "df = pd.read_csv('terrorismData.csv',encoding = 'UTF-8')\n",
    "year = len(set(df['Year']))\n",
    "df = df[df['Country'] == 'India']\n",
    "df['Casualty'] = df['Wounded'] + df['Killed']\n",
    "jammu = df[df['State'] == 'Jammu and Kashmir']\n",
    "red = df[(df['State'] == 'Jharkhand') | (df['State'] == 'Odisha') | (df['State'] == 'Chhattisgarh') | (df['State'] == 'Andhra Pradesh')]\n",
    "red = int(red['Casualty'].sum())\n",
    "jammu = int(jammu['Casualty'].sum())\n",
    "print(red//year,jammu//year)"
   ]
  }
 ],
 "metadata": {
  "kernelspec": {
   "display_name": "Python 3 (ipykernel)",
   "language": "python",
   "name": "python3"
  },
  "language_info": {
   "codemirror_mode": {
    "name": "ipython",
    "version": 3
   },
   "file_extension": ".py",
   "mimetype": "text/x-python",
   "name": "python",
   "nbconvert_exporter": "python",
   "pygments_lexer": "ipython3",
   "version": "3.9.12"
  }
 },
 "nbformat": 4,
 "nbformat_minor": 5
}
