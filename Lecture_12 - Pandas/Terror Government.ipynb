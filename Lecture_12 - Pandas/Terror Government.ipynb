{
 "cells": [
  {
   "attachments": {},
   "cell_type": "markdown",
   "id": "34e170ec",
   "metadata": {},
   "source": [
    "# Terror Government"
   ]
  },
  {
   "cell_type": "code",
   "execution_count": 1,
   "id": "e835792a",
   "metadata": {},
   "outputs": [],
   "source": [
    "# Terror Government\n",
    "\n",
    "# Given file \"terrorismData.csv\"\n",
    "\n",
    "# It is an open-source database including information on terrorist attacks around the world from 1970 through 2017. This dataset includes systematic data on domestic as well as international terrorist incidents that have occurred during this time period\n",
    "\n",
    "# Problem Statement:\n",
    "# There was formation of new government in India on 26 May 2014. So current government's span is from 26th May 2014 to current. Find out two things from this period-\n",
    "# 1. Total number of attacks done in this period in India. Find this count as integer.\n",
    "# 2. Which Terrorist group was most active in this period in India. Most active means, group which has done maximum number of attacks.\n",
    "# 3.Ignore the Unknown group.\n",
    "\n",
    "# Output Format:\n",
    "# TotalAttacks MostActive TerroristGroup"
   ]
  },
  {
   "cell_type": "code",
   "execution_count": 1,
   "id": "0d581497",
   "metadata": {},
   "outputs": [
    {
     "name": "stdout",
     "output_type": "stream",
     "text": [
      "3336 Maoists\n"
     ]
    }
   ],
   "source": [
    "import pandas as pd\n",
    "df = pd.read_csv('terrorismData.csv',encoding = 'UTF-8')\n",
    "df = df[df['Country']=='India']\n",
    "df = df[df['Year']>=2014]\n",
    "index1 = df[(df['Year']==2014) & (df['Month']<5)].index\n",
    "index2 = df[(df['Year']==2014) & (df['Month']==5) & (df['Day']<26)].index\n",
    "df.drop(index1,inplace = True)\n",
    "df.drop(index2,inplace = True)\n",
    "attacks = df.shape[0]\n",
    "group = df['Group'].value_counts().index[1]\n",
    "print(attacks,group)"
   ]
  }
 ],
 "metadata": {
  "kernelspec": {
   "display_name": "Python 3 (ipykernel)",
   "language": "python",
   "name": "python3"
  },
  "language_info": {
   "codemirror_mode": {
    "name": "ipython",
    "version": 3
   },
   "file_extension": ".py",
   "mimetype": "text/x-python",
   "name": "python",
   "nbconvert_exporter": "python",
   "pygments_lexer": "ipython3",
   "version": "3.9.12"
  }
 },
 "nbformat": 4,
 "nbformat_minor": 5
}
